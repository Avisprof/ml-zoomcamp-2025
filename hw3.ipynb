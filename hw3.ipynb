{
 "cells": [
  {
   "cell_type": "markdown",
   "id": "0ca9f289-7714-4d54-9fc4-bc48247f47a5",
   "metadata": {},
   "source": [
    "https://github.com/DataTalksClub/machine-learning-zoomcamp/blob/master/cohorts/2025/03-classification/homework.md"
   ]
  },
  {
   "cell_type": "code",
   "execution_count": 1,
   "id": "1e865282-8973-4c7a-b6a9-61a83d8713a5",
   "metadata": {},
   "outputs": [],
   "source": [
    "import numpy as np\n",
    "import pandas as pd"
   ]
  },
  {
   "cell_type": "code",
   "execution_count": 2,
   "id": "02187615-f322-47d6-9135-879770349819",
   "metadata": {},
   "outputs": [],
   "source": [
    "from IPython.display import display"
   ]
  },
  {
   "cell_type": "code",
   "execution_count": 3,
   "id": "e6678b70-84cd-473f-897b-272627897799",
   "metadata": {},
   "outputs": [],
   "source": [
    "from sklearn.model_selection import train_test_split\n",
    "from sklearn.metrics import mutual_info_score\n",
    "from sklearn.feature_extraction import DictVectorizer\n",
    "from sklearn.linear_model import LogisticRegression\n",
    "from sklearn.metrics import accuracy_score"
   ]
  },
  {
   "cell_type": "markdown",
   "id": "9d689d49-2405-4b17-b595-33de2971c343",
   "metadata": {},
   "source": [
    "### Read the data"
   ]
  },
  {
   "cell_type": "code",
   "execution_count": 4,
   "id": "708d918b-42ae-468c-a5f9-f3ec442b964a",
   "metadata": {},
   "outputs": [],
   "source": [
    "#!wget -P data https://raw.githubusercontent.com/alexeygrigorev/datasets/master/course_lead_scoring.csv"
   ]
  },
  {
   "cell_type": "code",
   "execution_count": 5,
   "id": "dc19f494-a591-48fe-b3d1-d6d3836427e0",
   "metadata": {},
   "outputs": [
    {
     "name": "stdout",
     "output_type": "stream",
     "text": [
      "(1462, 9)\n"
     ]
    },
    {
     "data": {
      "text/html": [
       "<div>\n",
       "<style scoped>\n",
       "    .dataframe tbody tr th:only-of-type {\n",
       "        vertical-align: middle;\n",
       "    }\n",
       "\n",
       "    .dataframe tbody tr th {\n",
       "        vertical-align: top;\n",
       "    }\n",
       "\n",
       "    .dataframe thead th {\n",
       "        text-align: right;\n",
       "    }\n",
       "</style>\n",
       "<table border=\"1\" class=\"dataframe\">\n",
       "  <thead>\n",
       "    <tr style=\"text-align: right;\">\n",
       "      <th></th>\n",
       "      <th>lead_source</th>\n",
       "      <th>industry</th>\n",
       "      <th>number_of_courses_viewed</th>\n",
       "      <th>annual_income</th>\n",
       "      <th>employment_status</th>\n",
       "      <th>location</th>\n",
       "      <th>interaction_count</th>\n",
       "      <th>lead_score</th>\n",
       "      <th>converted</th>\n",
       "    </tr>\n",
       "  </thead>\n",
       "  <tbody>\n",
       "    <tr>\n",
       "      <th>0</th>\n",
       "      <td>paid_ads</td>\n",
       "      <td>NaN</td>\n",
       "      <td>1</td>\n",
       "      <td>79450.0</td>\n",
       "      <td>unemployed</td>\n",
       "      <td>south_america</td>\n",
       "      <td>4</td>\n",
       "      <td>0.94</td>\n",
       "      <td>1</td>\n",
       "    </tr>\n",
       "    <tr>\n",
       "      <th>1</th>\n",
       "      <td>social_media</td>\n",
       "      <td>retail</td>\n",
       "      <td>1</td>\n",
       "      <td>46992.0</td>\n",
       "      <td>employed</td>\n",
       "      <td>south_america</td>\n",
       "      <td>1</td>\n",
       "      <td>0.80</td>\n",
       "      <td>0</td>\n",
       "    </tr>\n",
       "    <tr>\n",
       "      <th>2</th>\n",
       "      <td>events</td>\n",
       "      <td>healthcare</td>\n",
       "      <td>5</td>\n",
       "      <td>78796.0</td>\n",
       "      <td>unemployed</td>\n",
       "      <td>australia</td>\n",
       "      <td>3</td>\n",
       "      <td>0.69</td>\n",
       "      <td>1</td>\n",
       "    </tr>\n",
       "    <tr>\n",
       "      <th>3</th>\n",
       "      <td>paid_ads</td>\n",
       "      <td>retail</td>\n",
       "      <td>2</td>\n",
       "      <td>83843.0</td>\n",
       "      <td>NaN</td>\n",
       "      <td>australia</td>\n",
       "      <td>1</td>\n",
       "      <td>0.87</td>\n",
       "      <td>0</td>\n",
       "    </tr>\n",
       "    <tr>\n",
       "      <th>4</th>\n",
       "      <td>referral</td>\n",
       "      <td>education</td>\n",
       "      <td>3</td>\n",
       "      <td>85012.0</td>\n",
       "      <td>self_employed</td>\n",
       "      <td>europe</td>\n",
       "      <td>3</td>\n",
       "      <td>0.62</td>\n",
       "      <td>1</td>\n",
       "    </tr>\n",
       "  </tbody>\n",
       "</table>\n",
       "</div>"
      ],
      "text/plain": [
       "    lead_source    industry  number_of_courses_viewed  annual_income  \\\n",
       "0      paid_ads         NaN                         1        79450.0   \n",
       "1  social_media      retail                         1        46992.0   \n",
       "2        events  healthcare                         5        78796.0   \n",
       "3      paid_ads      retail                         2        83843.0   \n",
       "4      referral   education                         3        85012.0   \n",
       "\n",
       "  employment_status       location  interaction_count  lead_score  converted  \n",
       "0        unemployed  south_america                  4        0.94          1  \n",
       "1          employed  south_america                  1        0.80          0  \n",
       "2        unemployed      australia                  3        0.69          1  \n",
       "3               NaN      australia                  1        0.87          0  \n",
       "4     self_employed         europe                  3        0.62          1  "
      ]
     },
     "execution_count": 5,
     "metadata": {},
     "output_type": "execute_result"
    }
   ],
   "source": [
    "df = pd.read_csv('data/course_lead_scoring.csv')\n",
    "print(df.shape)\n",
    "df.head()"
   ]
  },
  {
   "cell_type": "markdown",
   "id": "06b38628-eb44-4607-9608-f2dac4c1448a",
   "metadata": {},
   "source": [
    "In this dataset our desired target for classification task will be `converted` variable - has the client signed up to the platform or not."
   ]
  },
  {
   "attachments": {},
   "cell_type": "markdown",
   "id": "88334b82-2580-41fa-960f-c89a27b62e53",
   "metadata": {},
   "source": [
    "### 2. Prepare the data"
   ]
  },
  {
   "cell_type": "markdown",
   "id": "dbb51600-3771-422f-b5a6-2682bf7c3787",
   "metadata": {},
   "source": [
    "Check if the missing values are presented in the features."
   ]
  },
  {
   "cell_type": "code",
   "execution_count": 6,
   "id": "7c38ee48-ee4c-4a70-9cf6-df9e6d93b1c2",
   "metadata": {},
   "outputs": [
    {
     "name": "stdout",
     "output_type": "stream",
     "text": [
      "['number_of_courses_viewed', 'annual_income', 'interaction_count', 'lead_score']\n"
     ]
    },
    {
     "data": {
      "text/plain": [
       "number_of_courses_viewed      0\n",
       "annual_income               181\n",
       "interaction_count             0\n",
       "lead_score                    0\n",
       "dtype: int64"
      ]
     },
     "execution_count": 6,
     "metadata": {},
     "output_type": "execute_result"
    }
   ],
   "source": [
    "num_columns = list(df.select_dtypes('number').columns)[:-1]\n",
    "print(num_columns)\n",
    "df[num_columns].isna().sum()"
   ]
  },
  {
   "cell_type": "code",
   "execution_count": 7,
   "id": "1dfabc50-0297-47cf-8af6-641b104d15d5",
   "metadata": {},
   "outputs": [],
   "source": [
    "# For numerical features, replace with with 0.0\n",
    "df[num_columns] = df[num_columns].fillna(0)"
   ]
  },
  {
   "cell_type": "code",
   "execution_count": 8,
   "id": "08e01c6e-24ad-4472-aab3-a03e7b690818",
   "metadata": {},
   "outputs": [
    {
     "name": "stdout",
     "output_type": "stream",
     "text": [
      "['lead_source', 'industry', 'employment_status', 'location']\n"
     ]
    },
    {
     "data": {
      "text/plain": [
       "lead_source          128\n",
       "industry             134\n",
       "employment_status    100\n",
       "location              63\n",
       "dtype: int64"
      ]
     },
     "execution_count": 8,
     "metadata": {},
     "output_type": "execute_result"
    }
   ],
   "source": [
    "cat_columns = list(df.select_dtypes('object').columns)\n",
    "print(cat_columns)\n",
    "df[cat_columns].isna().sum()"
   ]
  },
  {
   "cell_type": "code",
   "execution_count": 9,
   "id": "0ffaf564-2589-4ecd-919a-8d96fe20c492",
   "metadata": {},
   "outputs": [],
   "source": [
    "# For caterogiral features, replace them with 'NA'\n",
    "df[cat_columns] = df[cat_columns].fillna('NA')"
   ]
  },
  {
   "cell_type": "code",
   "execution_count": 10,
   "id": "8591bb11-40c8-4d10-959c-1a044557c6b4",
   "metadata": {},
   "outputs": [],
   "source": [
    "target = 'converted'"
   ]
  },
  {
   "cell_type": "markdown",
   "id": "3b3467ab-3805-436d-bc76-769fa03eb531",
   "metadata": {},
   "source": [
    "### Question 1"
   ]
  },
  {
   "cell_type": "markdown",
   "id": "170d9541-d969-4d19-8b67-e44edbd46c90",
   "metadata": {},
   "source": [
    "What is the most frequent observation (mode) for the column `industry`?"
   ]
  },
  {
   "cell_type": "code",
   "execution_count": 11,
   "id": "c05b44cc-4dbc-440e-b1a3-5073dce9e1c1",
   "metadata": {},
   "outputs": [
    {
     "data": {
      "text/plain": [
       "'retail'"
      ]
     },
     "execution_count": 11,
     "metadata": {},
     "output_type": "execute_result"
    }
   ],
   "source": [
    "df['industry'].mode()[0]"
   ]
  },
  {
   "cell_type": "markdown",
   "id": "084951a9-8a46-4578-acd1-d2685fc42215",
   "metadata": {},
   "source": [
    "Ans: retail"
   ]
  },
  {
   "cell_type": "markdown",
   "id": "a60253df-754b-4db2-97cd-6adfe9f55d1b",
   "metadata": {},
   "source": [
    "### Question 2"
   ]
  },
  {
   "cell_type": "markdown",
   "id": "55d0e3f9-11e5-4b04-a3ce-dd796564a110",
   "metadata": {},
   "source": [
    "Create the correlation matrix for the numerical features of your dataset. In a correlation matrix, you compute the correlation coefficient between every pair of features."
   ]
  },
  {
   "cell_type": "code",
   "execution_count": 12,
   "id": "bbd46389-16a4-47e2-9f71-406fc1c17c24",
   "metadata": {},
   "outputs": [
    {
     "data": {
      "text/html": [
       "<style type=\"text/css\">\n",
       "#T_46a99_row0_col0, #T_46a99_row1_col1, #T_46a99_row2_col2, #T_46a99_row3_col3 {\n",
       "  background-color: #023858;\n",
       "  color: #f1f1f1;\n",
       "}\n",
       "#T_46a99_row0_col1, #T_46a99_row0_col2, #T_46a99_row0_col3, #T_46a99_row2_col0 {\n",
       "  background-color: #fff7fb;\n",
       "  color: #000000;\n",
       "}\n",
       "#T_46a99_row1_col0, #T_46a99_row3_col2 {\n",
       "  background-color: #faf3f9;\n",
       "  color: #000000;\n",
       "}\n",
       "#T_46a99_row1_col2 {\n",
       "  background-color: #f8f1f8;\n",
       "  color: #000000;\n",
       "}\n",
       "#T_46a99_row1_col3 {\n",
       "  background-color: #fcf4fa;\n",
       "  color: #000000;\n",
       "}\n",
       "#T_46a99_row2_col1, #T_46a99_row2_col3, #T_46a99_row3_col0 {\n",
       "  background-color: #fdf5fa;\n",
       "  color: #000000;\n",
       "}\n",
       "#T_46a99_row3_col1 {\n",
       "  background-color: #fef6fb;\n",
       "  color: #000000;\n",
       "}\n",
       "</style>\n",
       "<table id=\"T_46a99\">\n",
       "  <thead>\n",
       "    <tr>\n",
       "      <th class=\"blank level0\" >&nbsp;</th>\n",
       "      <th id=\"T_46a99_level0_col0\" class=\"col_heading level0 col0\" >number_of_courses_viewed</th>\n",
       "      <th id=\"T_46a99_level0_col1\" class=\"col_heading level0 col1\" >annual_income</th>\n",
       "      <th id=\"T_46a99_level0_col2\" class=\"col_heading level0 col2\" >interaction_count</th>\n",
       "      <th id=\"T_46a99_level0_col3\" class=\"col_heading level0 col3\" >lead_score</th>\n",
       "    </tr>\n",
       "  </thead>\n",
       "  <tbody>\n",
       "    <tr>\n",
       "      <th id=\"T_46a99_level0_row0\" class=\"row_heading level0 row0\" >number_of_courses_viewed</th>\n",
       "      <td id=\"T_46a99_row0_col0\" class=\"data row0 col0\" >1.000000</td>\n",
       "      <td id=\"T_46a99_row0_col1\" class=\"data row0 col1\" >0.009770</td>\n",
       "      <td id=\"T_46a99_row0_col2\" class=\"data row0 col2\" >-0.023565</td>\n",
       "      <td id=\"T_46a99_row0_col3\" class=\"data row0 col3\" >-0.004879</td>\n",
       "    </tr>\n",
       "    <tr>\n",
       "      <th id=\"T_46a99_level0_row1\" class=\"row_heading level0 row1\" >annual_income</th>\n",
       "      <td id=\"T_46a99_row1_col0\" class=\"data row1 col0\" >0.009770</td>\n",
       "      <td id=\"T_46a99_row1_col1\" class=\"data row1 col1\" >1.000000</td>\n",
       "      <td id=\"T_46a99_row1_col2\" class=\"data row1 col2\" >0.027036</td>\n",
       "      <td id=\"T_46a99_row1_col3\" class=\"data row1 col3\" >0.015610</td>\n",
       "    </tr>\n",
       "    <tr>\n",
       "      <th id=\"T_46a99_level0_row2\" class=\"row_heading level0 row2\" >interaction_count</th>\n",
       "      <td id=\"T_46a99_row2_col0\" class=\"data row2 col0\" >-0.023565</td>\n",
       "      <td id=\"T_46a99_row2_col1\" class=\"data row2 col1\" >0.027036</td>\n",
       "      <td id=\"T_46a99_row2_col2\" class=\"data row2 col2\" >1.000000</td>\n",
       "      <td id=\"T_46a99_row2_col3\" class=\"data row2 col3\" >0.009888</td>\n",
       "    </tr>\n",
       "    <tr>\n",
       "      <th id=\"T_46a99_level0_row3\" class=\"row_heading level0 row3\" >lead_score</th>\n",
       "      <td id=\"T_46a99_row3_col0\" class=\"data row3 col0\" >-0.004879</td>\n",
       "      <td id=\"T_46a99_row3_col1\" class=\"data row3 col1\" >0.015610</td>\n",
       "      <td id=\"T_46a99_row3_col2\" class=\"data row3 col2\" >0.009888</td>\n",
       "      <td id=\"T_46a99_row3_col3\" class=\"data row3 col3\" >1.000000</td>\n",
       "    </tr>\n",
       "  </tbody>\n",
       "</table>\n"
      ],
      "text/plain": [
       "<pandas.io.formats.style.Styler at 0x7a7533b59a90>"
      ]
     },
     "execution_count": 12,
     "metadata": {},
     "output_type": "execute_result"
    }
   ],
   "source": [
    "df_corr = df[num_columns].corr()\n",
    "df_corr.style.background_gradient()"
   ]
  },
  {
   "cell_type": "code",
   "execution_count": 13,
   "id": "01cc7d32-f553-4792-b096-bb53071630ea",
   "metadata": {},
   "outputs": [
    {
     "data": {
      "text/html": [
       "<div>\n",
       "<style scoped>\n",
       "    .dataframe tbody tr th:only-of-type {\n",
       "        vertical-align: middle;\n",
       "    }\n",
       "\n",
       "    .dataframe tbody tr th {\n",
       "        vertical-align: top;\n",
       "    }\n",
       "\n",
       "    .dataframe thead th {\n",
       "        text-align: right;\n",
       "    }\n",
       "</style>\n",
       "<table border=\"1\" class=\"dataframe\">\n",
       "  <thead>\n",
       "    <tr style=\"text-align: right;\">\n",
       "      <th></th>\n",
       "      <th>col1</th>\n",
       "      <th>col2</th>\n",
       "      <th>corr</th>\n",
       "    </tr>\n",
       "  </thead>\n",
       "  <tbody>\n",
       "    <tr>\n",
       "      <th>3</th>\n",
       "      <td>annual_income</td>\n",
       "      <td>interaction_count</td>\n",
       "      <td>0.027036</td>\n",
       "    </tr>\n",
       "  </tbody>\n",
       "</table>\n",
       "</div>"
      ],
      "text/plain": [
       "            col1               col2      corr\n",
       "3  annual_income  interaction_count  0.027036"
      ]
     },
     "execution_count": 13,
     "metadata": {},
     "output_type": "execute_result"
    }
   ],
   "source": [
    "scores = []\n",
    "for col1, col2 in [\n",
    "    ('interaction_count','lead_score'),\n",
    "    ('number_of_courses_viewed','lead_score'),\n",
    "    ('number_of_courses_viewed','interaction_count'),\n",
    "    ('annual_income','interaction_count')\n",
    "]:\n",
    "    scores.append([col1, col2, abs(df_corr[col1][col2])])\n",
    "\n",
    "df_scores = pd.DataFrame(scores,columns=['col1','col2','corr'])\n",
    "df_scores.sort_values(by='corr', ascending=False, inplace=True)\n",
    "df_scores.head(1)"
   ]
  },
  {
   "cell_type": "markdown",
   "id": "097ff742-0952-4644-9336-b6a733910da7",
   "metadata": {},
   "source": [
    "Ans: `annual_income` and `interaction_count` has the biggest correlation"
   ]
  },
  {
   "cell_type": "markdown",
   "id": "5abdbb69-532f-49aa-bfa8-aab783678155",
   "metadata": {},
   "source": [
    "### 3. Split the data"
   ]
  },
  {
   "cell_type": "markdown",
   "id": "0308c46b-cb89-4b00-8b63-8c1a865c48a6",
   "metadata": {},
   "source": [
    "* Split your data in train/val/test sets with 60%/20%/20% distribution.\n",
    "* Use Scikit-Learn for that (the train_test_split function) and set the seed to 42.\n",
    "* Make sure that the target value y is not in your dataframe."
   ]
  },
  {
   "cell_type": "code",
   "execution_count": 14,
   "id": "515ef812-cdd5-4bd3-9448-510eeb67b1ef",
   "metadata": {},
   "outputs": [
    {
     "data": {
      "text/plain": [
       "((876, 9), (293, 9), (293, 9))"
      ]
     },
     "execution_count": 14,
     "metadata": {},
     "output_type": "execute_result"
    }
   ],
   "source": [
    "df_train_full, df_test = train_test_split(df, test_size=0.2, random_state=42)\n",
    "df_train, df_val = train_test_split(df_train_full, test_size=0.25, random_state=42)\n",
    "df_train.shape, df_val.shape, df_test.shape"
   ]
  },
  {
   "cell_type": "code",
   "execution_count": 15,
   "id": "c8df36f4-e956-4f72-8044-6862ddf6a6e5",
   "metadata": {},
   "outputs": [],
   "source": [
    "df_train.reset_index(drop=True, inplace=True)\n",
    "df_val.reset_index(drop=True, inplace=True)\n",
    "df_test.reset_index(drop=True, inplace=True)\n",
    "\n",
    "y_train = df_train.pop(target)\n",
    "y_val = df_val.pop(target)\n",
    "y_test = df_test.pop(target)"
   ]
  },
  {
   "cell_type": "markdown",
   "id": "f492baf2-e816-45e3-875a-053264f71886",
   "metadata": {},
   "source": [
    "### Question 3"
   ]
  },
  {
   "cell_type": "markdown",
   "id": "91aaea8f-cd5b-4c2e-b1c9-a4b863e15fb0",
   "metadata": {},
   "source": [
    "* Calculate the mutual information score between y and other categorical variables in the dataset. Use the training set only.\n",
    "* Round the scores to 2 decimals using round(score, 2)."
   ]
  },
  {
   "cell_type": "markdown",
   "id": "fce7d444-e0c5-4c9f-9a64-df7bc1dbc516",
   "metadata": {},
   "source": [
    "First, look at categorical columns"
   ]
  },
  {
   "cell_type": "code",
   "execution_count": 16,
   "id": "243131f2-c1a8-4976-ae62-c72ee5381dc0",
   "metadata": {},
   "outputs": [
    {
     "data": {
      "text/plain": [
       "np.float64(0.6190150478796169)"
      ]
     },
     "execution_count": 16,
     "metadata": {},
     "output_type": "execute_result"
    }
   ],
   "source": [
    "global_target = df['converted'].mean()\n",
    "global_target"
   ]
  },
  {
   "cell_type": "code",
   "execution_count": 17,
   "id": "843eb339-f19a-4124-bfdc-071821b3bc48",
   "metadata": {},
   "outputs": [
    {
     "name": "stdout",
     "output_type": "stream",
     "text": [
      ">>> lead_source\n"
     ]
    },
    {
     "data": {
      "text/html": [
       "<div>\n",
       "<style scoped>\n",
       "    .dataframe tbody tr th:only-of-type {\n",
       "        vertical-align: middle;\n",
       "    }\n",
       "\n",
       "    .dataframe tbody tr th {\n",
       "        vertical-align: top;\n",
       "    }\n",
       "\n",
       "    .dataframe thead th {\n",
       "        text-align: right;\n",
       "    }\n",
       "</style>\n",
       "<table border=\"1\" class=\"dataframe\">\n",
       "  <thead>\n",
       "    <tr style=\"text-align: right;\">\n",
       "      <th></th>\n",
       "      <th>mean</th>\n",
       "      <th>count</th>\n",
       "      <th>diff</th>\n",
       "      <th>ratio</th>\n",
       "    </tr>\n",
       "    <tr>\n",
       "      <th>lead_source</th>\n",
       "      <th></th>\n",
       "      <th></th>\n",
       "      <th></th>\n",
       "      <th></th>\n",
       "    </tr>\n",
       "  </thead>\n",
       "  <tbody>\n",
       "    <tr>\n",
       "      <th>NA</th>\n",
       "      <td>0.671875</td>\n",
       "      <td>128</td>\n",
       "      <td>0.052860</td>\n",
       "      <td>1.085394</td>\n",
       "    </tr>\n",
       "    <tr>\n",
       "      <th>events</th>\n",
       "      <td>0.596000</td>\n",
       "      <td>250</td>\n",
       "      <td>-0.023015</td>\n",
       "      <td>0.962820</td>\n",
       "    </tr>\n",
       "    <tr>\n",
       "      <th>organic_search</th>\n",
       "      <td>0.617021</td>\n",
       "      <td>282</td>\n",
       "      <td>-0.001994</td>\n",
       "      <td>0.996779</td>\n",
       "    </tr>\n",
       "    <tr>\n",
       "      <th>paid_ads</th>\n",
       "      <td>0.446970</td>\n",
       "      <td>264</td>\n",
       "      <td>-0.172045</td>\n",
       "      <td>0.722066</td>\n",
       "    </tr>\n",
       "    <tr>\n",
       "      <th>referral</th>\n",
       "      <td>0.807692</td>\n",
       "      <td>260</td>\n",
       "      <td>0.188677</td>\n",
       "      <td>1.304802</td>\n",
       "    </tr>\n",
       "    <tr>\n",
       "      <th>social_media</th>\n",
       "      <td>0.604317</td>\n",
       "      <td>278</td>\n",
       "      <td>-0.014699</td>\n",
       "      <td>0.976255</td>\n",
       "    </tr>\n",
       "  </tbody>\n",
       "</table>\n",
       "</div>"
      ],
      "text/plain": [
       "                    mean  count      diff     ratio\n",
       "lead_source                                        \n",
       "NA              0.671875    128  0.052860  1.085394\n",
       "events          0.596000    250 -0.023015  0.962820\n",
       "organic_search  0.617021    282 -0.001994  0.996779\n",
       "paid_ads        0.446970    264 -0.172045  0.722066\n",
       "referral        0.807692    260  0.188677  1.304802\n",
       "social_media    0.604317    278 -0.014699  0.976255"
      ]
     },
     "metadata": {},
     "output_type": "display_data"
    },
    {
     "name": "stdout",
     "output_type": "stream",
     "text": [
      "\n",
      ">>> industry\n"
     ]
    },
    {
     "data": {
      "text/html": [
       "<div>\n",
       "<style scoped>\n",
       "    .dataframe tbody tr th:only-of-type {\n",
       "        vertical-align: middle;\n",
       "    }\n",
       "\n",
       "    .dataframe tbody tr th {\n",
       "        vertical-align: top;\n",
       "    }\n",
       "\n",
       "    .dataframe thead th {\n",
       "        text-align: right;\n",
       "    }\n",
       "</style>\n",
       "<table border=\"1\" class=\"dataframe\">\n",
       "  <thead>\n",
       "    <tr style=\"text-align: right;\">\n",
       "      <th></th>\n",
       "      <th>mean</th>\n",
       "      <th>count</th>\n",
       "      <th>diff</th>\n",
       "      <th>ratio</th>\n",
       "    </tr>\n",
       "    <tr>\n",
       "      <th>industry</th>\n",
       "      <th></th>\n",
       "      <th></th>\n",
       "      <th></th>\n",
       "      <th></th>\n",
       "    </tr>\n",
       "  </thead>\n",
       "  <tbody>\n",
       "    <tr>\n",
       "      <th>NA</th>\n",
       "      <td>0.559701</td>\n",
       "      <td>134</td>\n",
       "      <td>-0.059314</td>\n",
       "      <td>0.904181</td>\n",
       "    </tr>\n",
       "    <tr>\n",
       "      <th>education</th>\n",
       "      <td>0.748663</td>\n",
       "      <td>187</td>\n",
       "      <td>0.129648</td>\n",
       "      <td>1.209442</td>\n",
       "    </tr>\n",
       "    <tr>\n",
       "      <th>finance</th>\n",
       "      <td>0.595000</td>\n",
       "      <td>200</td>\n",
       "      <td>-0.024015</td>\n",
       "      <td>0.961204</td>\n",
       "    </tr>\n",
       "    <tr>\n",
       "      <th>healthcare</th>\n",
       "      <td>0.604278</td>\n",
       "      <td>187</td>\n",
       "      <td>-0.014737</td>\n",
       "      <td>0.976193</td>\n",
       "    </tr>\n",
       "    <tr>\n",
       "      <th>manufacturing</th>\n",
       "      <td>0.666667</td>\n",
       "      <td>174</td>\n",
       "      <td>0.047652</td>\n",
       "      <td>1.076980</td>\n",
       "    </tr>\n",
       "    <tr>\n",
       "      <th>other</th>\n",
       "      <td>0.611111</td>\n",
       "      <td>198</td>\n",
       "      <td>-0.007904</td>\n",
       "      <td>0.987231</td>\n",
       "    </tr>\n",
       "    <tr>\n",
       "      <th>retail</th>\n",
       "      <td>0.586207</td>\n",
       "      <td>203</td>\n",
       "      <td>-0.032808</td>\n",
       "      <td>0.946999</td>\n",
       "    </tr>\n",
       "    <tr>\n",
       "      <th>technology</th>\n",
       "      <td>0.569832</td>\n",
       "      <td>179</td>\n",
       "      <td>-0.049183</td>\n",
       "      <td>0.920547</td>\n",
       "    </tr>\n",
       "  </tbody>\n",
       "</table>\n",
       "</div>"
      ],
      "text/plain": [
       "                   mean  count      diff     ratio\n",
       "industry                                          \n",
       "NA             0.559701    134 -0.059314  0.904181\n",
       "education      0.748663    187  0.129648  1.209442\n",
       "finance        0.595000    200 -0.024015  0.961204\n",
       "healthcare     0.604278    187 -0.014737  0.976193\n",
       "manufacturing  0.666667    174  0.047652  1.076980\n",
       "other          0.611111    198 -0.007904  0.987231\n",
       "retail         0.586207    203 -0.032808  0.946999\n",
       "technology     0.569832    179 -0.049183  0.920547"
      ]
     },
     "metadata": {},
     "output_type": "display_data"
    },
    {
     "name": "stdout",
     "output_type": "stream",
     "text": [
      "\n",
      ">>> employment_status\n"
     ]
    },
    {
     "data": {
      "text/html": [
       "<div>\n",
       "<style scoped>\n",
       "    .dataframe tbody tr th:only-of-type {\n",
       "        vertical-align: middle;\n",
       "    }\n",
       "\n",
       "    .dataframe tbody tr th {\n",
       "        vertical-align: top;\n",
       "    }\n",
       "\n",
       "    .dataframe thead th {\n",
       "        text-align: right;\n",
       "    }\n",
       "</style>\n",
       "<table border=\"1\" class=\"dataframe\">\n",
       "  <thead>\n",
       "    <tr style=\"text-align: right;\">\n",
       "      <th></th>\n",
       "      <th>mean</th>\n",
       "      <th>count</th>\n",
       "      <th>diff</th>\n",
       "      <th>ratio</th>\n",
       "    </tr>\n",
       "    <tr>\n",
       "      <th>employment_status</th>\n",
       "      <th></th>\n",
       "      <th></th>\n",
       "      <th></th>\n",
       "      <th></th>\n",
       "    </tr>\n",
       "  </thead>\n",
       "  <tbody>\n",
       "    <tr>\n",
       "      <th>NA</th>\n",
       "      <td>0.560000</td>\n",
       "      <td>100</td>\n",
       "      <td>-0.059015</td>\n",
       "      <td>0.904663</td>\n",
       "    </tr>\n",
       "    <tr>\n",
       "      <th>employed</th>\n",
       "      <td>0.689024</td>\n",
       "      <td>328</td>\n",
       "      <td>0.070009</td>\n",
       "      <td>1.113098</td>\n",
       "    </tr>\n",
       "    <tr>\n",
       "      <th>self_employed</th>\n",
       "      <td>0.653409</td>\n",
       "      <td>352</td>\n",
       "      <td>0.034394</td>\n",
       "      <td>1.055563</td>\n",
       "    </tr>\n",
       "    <tr>\n",
       "      <th>student</th>\n",
       "      <td>0.652299</td>\n",
       "      <td>348</td>\n",
       "      <td>0.033284</td>\n",
       "      <td>1.053769</td>\n",
       "    </tr>\n",
       "    <tr>\n",
       "      <th>unemployed</th>\n",
       "      <td>0.497006</td>\n",
       "      <td>334</td>\n",
       "      <td>-0.122009</td>\n",
       "      <td>0.802898</td>\n",
       "    </tr>\n",
       "  </tbody>\n",
       "</table>\n",
       "</div>"
      ],
      "text/plain": [
       "                       mean  count      diff     ratio\n",
       "employment_status                                     \n",
       "NA                 0.560000    100 -0.059015  0.904663\n",
       "employed           0.689024    328  0.070009  1.113098\n",
       "self_employed      0.653409    352  0.034394  1.055563\n",
       "student            0.652299    348  0.033284  1.053769\n",
       "unemployed         0.497006    334 -0.122009  0.802898"
      ]
     },
     "metadata": {},
     "output_type": "display_data"
    },
    {
     "name": "stdout",
     "output_type": "stream",
     "text": [
      "\n",
      ">>> location\n"
     ]
    },
    {
     "data": {
      "text/html": [
       "<div>\n",
       "<style scoped>\n",
       "    .dataframe tbody tr th:only-of-type {\n",
       "        vertical-align: middle;\n",
       "    }\n",
       "\n",
       "    .dataframe tbody tr th {\n",
       "        vertical-align: top;\n",
       "    }\n",
       "\n",
       "    .dataframe thead th {\n",
       "        text-align: right;\n",
       "    }\n",
       "</style>\n",
       "<table border=\"1\" class=\"dataframe\">\n",
       "  <thead>\n",
       "    <tr style=\"text-align: right;\">\n",
       "      <th></th>\n",
       "      <th>mean</th>\n",
       "      <th>count</th>\n",
       "      <th>diff</th>\n",
       "      <th>ratio</th>\n",
       "    </tr>\n",
       "    <tr>\n",
       "      <th>location</th>\n",
       "      <th></th>\n",
       "      <th></th>\n",
       "      <th></th>\n",
       "      <th></th>\n",
       "    </tr>\n",
       "  </thead>\n",
       "  <tbody>\n",
       "    <tr>\n",
       "      <th>NA</th>\n",
       "      <td>0.698413</td>\n",
       "      <td>63</td>\n",
       "      <td>0.079398</td>\n",
       "      <td>1.128264</td>\n",
       "    </tr>\n",
       "    <tr>\n",
       "      <th>africa</th>\n",
       "      <td>0.601064</td>\n",
       "      <td>188</td>\n",
       "      <td>-0.017951</td>\n",
       "      <td>0.971000</td>\n",
       "    </tr>\n",
       "    <tr>\n",
       "      <th>asia</th>\n",
       "      <td>0.620513</td>\n",
       "      <td>195</td>\n",
       "      <td>0.001498</td>\n",
       "      <td>1.002420</td>\n",
       "    </tr>\n",
       "    <tr>\n",
       "      <th>australia</th>\n",
       "      <td>0.605405</td>\n",
       "      <td>185</td>\n",
       "      <td>-0.013610</td>\n",
       "      <td>0.978014</td>\n",
       "    </tr>\n",
       "    <tr>\n",
       "      <th>europe</th>\n",
       "      <td>0.652778</td>\n",
       "      <td>216</td>\n",
       "      <td>0.033763</td>\n",
       "      <td>1.054543</td>\n",
       "    </tr>\n",
       "    <tr>\n",
       "      <th>middle_east</th>\n",
       "      <td>0.631313</td>\n",
       "      <td>198</td>\n",
       "      <td>0.012298</td>\n",
       "      <td>1.019867</td>\n",
       "    </tr>\n",
       "    <tr>\n",
       "      <th>north_america</th>\n",
       "      <td>0.595556</td>\n",
       "      <td>225</td>\n",
       "      <td>-0.023459</td>\n",
       "      <td>0.962102</td>\n",
       "    </tr>\n",
       "    <tr>\n",
       "      <th>south_america</th>\n",
       "      <td>0.598958</td>\n",
       "      <td>192</td>\n",
       "      <td>-0.020057</td>\n",
       "      <td>0.967599</td>\n",
       "    </tr>\n",
       "  </tbody>\n",
       "</table>\n",
       "</div>"
      ],
      "text/plain": [
       "                   mean  count      diff     ratio\n",
       "location                                          \n",
       "NA             0.698413     63  0.079398  1.128264\n",
       "africa         0.601064    188 -0.017951  0.971000\n",
       "asia           0.620513    195  0.001498  1.002420\n",
       "australia      0.605405    185 -0.013610  0.978014\n",
       "europe         0.652778    216  0.033763  1.054543\n",
       "middle_east    0.631313    198  0.012298  1.019867\n",
       "north_america  0.595556    225 -0.023459  0.962102\n",
       "south_america  0.598958    192 -0.020057  0.967599"
      ]
     },
     "metadata": {},
     "output_type": "display_data"
    },
    {
     "name": "stdout",
     "output_type": "stream",
     "text": [
      "\n"
     ]
    }
   ],
   "source": [
    "for col in cat_columns:\n",
    "    print('>>>',col)\n",
    "    df_agg = df.groupby(col)[target].agg(['mean','count'])\n",
    "    df_agg['diff'] = df_agg['mean'] - global_target\n",
    "    df_agg['ratio'] = df_agg['mean'] / global_target\n",
    "    display(df_agg)\n",
    "    print()"
   ]
  },
  {
   "cell_type": "code",
   "execution_count": 18,
   "id": "7e32353b-c8ae-4c7e-b127-0ae131f04de9",
   "metadata": {},
   "outputs": [
    {
     "data": {
      "text/html": [
       "<div>\n",
       "<style scoped>\n",
       "    .dataframe tbody tr th:only-of-type {\n",
       "        vertical-align: middle;\n",
       "    }\n",
       "\n",
       "    .dataframe tbody tr th {\n",
       "        vertical-align: top;\n",
       "    }\n",
       "\n",
       "    .dataframe thead th {\n",
       "        text-align: right;\n",
       "    }\n",
       "</style>\n",
       "<table border=\"1\" class=\"dataframe\">\n",
       "  <thead>\n",
       "    <tr style=\"text-align: right;\">\n",
       "      <th></th>\n",
       "      <th>column</th>\n",
       "      <th>mutual_score</th>\n",
       "    </tr>\n",
       "  </thead>\n",
       "  <tbody>\n",
       "    <tr>\n",
       "      <th>0</th>\n",
       "      <td>lead_source</td>\n",
       "      <td>0.035396</td>\n",
       "    </tr>\n",
       "    <tr>\n",
       "      <th>2</th>\n",
       "      <td>employment_status</td>\n",
       "      <td>0.012938</td>\n",
       "    </tr>\n",
       "    <tr>\n",
       "      <th>1</th>\n",
       "      <td>industry</td>\n",
       "      <td>0.011575</td>\n",
       "    </tr>\n",
       "    <tr>\n",
       "      <th>3</th>\n",
       "      <td>location</td>\n",
       "      <td>0.004464</td>\n",
       "    </tr>\n",
       "  </tbody>\n",
       "</table>\n",
       "</div>"
      ],
      "text/plain": [
       "              column  mutual_score\n",
       "0        lead_source      0.035396\n",
       "2  employment_status      0.012938\n",
       "1           industry      0.011575\n",
       "3           location      0.004464"
      ]
     },
     "execution_count": 18,
     "metadata": {},
     "output_type": "execute_result"
    }
   ],
   "source": [
    "scores = []\n",
    "for col in cat_columns:\n",
    "    scores.append([col, mutual_info_score(df_train[col], y_train)])\n",
    "df_scores = pd.DataFrame(scores, columns=['column','mutual_score'])\n",
    "df_scores.sort_values('mutual_score', ascending=False)"
   ]
  },
  {
   "cell_type": "markdown",
   "id": "c25869d7-cb98-49b5-8dd0-b35a114e0d44",
   "metadata": {},
   "source": [
    "Ans: `lead_score` has the biggest mutual information score"
   ]
  },
  {
   "cell_type": "markdown",
   "id": "83ce0b25-34e3-4aa9-9724-01059ca2b4d1",
   "metadata": {},
   "source": [
    "### Question 4"
   ]
  },
  {
   "cell_type": "markdown",
   "id": "496fa660-25e6-44ce-a6cd-88e262b083d9",
   "metadata": {},
   "source": [
    "* Now let's train a logistic regression.\n",
    "* Remember that we have several categorical variables in the dataset. Include them using one-hot encoding.\n",
    "* Fit the model on the training dataset.\n",
    "    - To make sure the results are reproducible across different versions of Scikit-Learn, fit the model with these parameters:\n",
    "    - model = LogisticRegression(solver='liblinear', C=1.0, max_iter=1000, random_state=42)\n",
    "* Calculate the accuracy on the validation dataset and round it to 2 decimal digits."
   ]
  },
  {
   "cell_type": "code",
   "execution_count": 19,
   "id": "3a59700a-0041-4cd1-983a-d30357dcf0e7",
   "metadata": {},
   "outputs": [],
   "source": [
    "def train_model(df_train, y_train, C=1.0):\n",
    "    # one-hot encoding\n",
    "    dv = DictVectorizer(sparse=False)\n",
    "    train_dicts = df_train.to_dict(orient='records')\n",
    "    X_train = dv.fit_transform(train_dicts)\n",
    "\n",
    "    model = LogisticRegression(solver='liblinear', C=C, max_iter=1000, random_state=42)\n",
    "    model.fit(X_train, y_train)\n",
    "\n",
    "    return dv, model    "
   ]
  },
  {
   "cell_type": "code",
   "execution_count": 20,
   "id": "d556593f-02e8-4065-b626-83406a2b10ef",
   "metadata": {},
   "outputs": [],
   "source": [
    "def evaluate_model(dv, model, df_pred, y_true):\n",
    "    \n",
    "    pred_dicts = df_pred.to_dict(orient='records')\n",
    "    X_pred = dv.transform(pred_dicts)\n",
    "    y_pred = model.predict(X_pred)    \n",
    "\n",
    "    accuracy = (y_pred == y_true).mean()\n",
    "    \n",
    "    return accuracy, y_pred\n",
    "    "
   ]
  },
  {
   "cell_type": "code",
   "execution_count": 21,
   "id": "e316e7ed-084e-4c14-8f6a-d9b91cb5864a",
   "metadata": {},
   "outputs": [],
   "source": [
    "dv, model = train_model(df_train, y_train)"
   ]
  },
  {
   "cell_type": "code",
   "execution_count": 22,
   "id": "91f15be7-08a6-42fb-9936-a9f5d2b32ed6",
   "metadata": {},
   "outputs": [
    {
     "data": {
      "text/plain": [
       "np.float64(0.6996587030716723)"
      ]
     },
     "execution_count": 22,
     "metadata": {},
     "output_type": "execute_result"
    }
   ],
   "source": [
    "global_accuracy, _ = evaluate_model(dv, model, df_val, y_val)\n",
    "global_accuracy"
   ]
  },
  {
   "cell_type": "markdown",
   "id": "ffeeb43c-157d-430d-bc9d-674f933aa287",
   "metadata": {},
   "source": [
    "Ans: 0.7"
   ]
  },
  {
   "cell_type": "markdown",
   "id": "c3927545-b0a4-44cb-9c12-743a9f6d423b",
   "metadata": {},
   "source": [
    "### Question 5"
   ]
  },
  {
   "cell_type": "markdown",
   "id": "2800515a-0c70-4c63-aa69-b3183f40d20b",
   "metadata": {},
   "source": [
    "* Let's find the least useful feature using the feature elimination technique.\n",
    "* Train a model using the same features and parameters as in Q4 (without rounding).\n",
    "* Now exclude each feature from this set and train a model without it. Record the accuracy for each model.\n",
    "* For each feature, calculate the difference between the original accuracy and the accuracy without the feature."
   ]
  },
  {
   "cell_type": "code",
   "execution_count": 23,
   "id": "b953cf25-2da2-4267-8ec4-66eb5ca5ada2",
   "metadata": {},
   "outputs": [
    {
     "data": {
      "text/html": [
       "<div>\n",
       "<style scoped>\n",
       "    .dataframe tbody tr th:only-of-type {\n",
       "        vertical-align: middle;\n",
       "    }\n",
       "\n",
       "    .dataframe tbody tr th {\n",
       "        vertical-align: top;\n",
       "    }\n",
       "\n",
       "    .dataframe thead th {\n",
       "        text-align: right;\n",
       "    }\n",
       "</style>\n",
       "<table border=\"1\" class=\"dataframe\">\n",
       "  <thead>\n",
       "    <tr style=\"text-align: right;\">\n",
       "      <th></th>\n",
       "      <th>column</th>\n",
       "      <th>accuracy</th>\n",
       "      <th>diff</th>\n",
       "    </tr>\n",
       "  </thead>\n",
       "  <tbody>\n",
       "    <tr>\n",
       "      <th>1</th>\n",
       "      <td>industry</td>\n",
       "      <td>0.699659</td>\n",
       "      <td>0.000000</td>\n",
       "    </tr>\n",
       "    <tr>\n",
       "      <th>2</th>\n",
       "      <td>employment_status</td>\n",
       "      <td>0.696246</td>\n",
       "      <td>0.003413</td>\n",
       "    </tr>\n",
       "    <tr>\n",
       "      <th>0</th>\n",
       "      <td>lead_source</td>\n",
       "      <td>0.703072</td>\n",
       "      <td>0.003413</td>\n",
       "    </tr>\n",
       "    <tr>\n",
       "      <th>3</th>\n",
       "      <td>location</td>\n",
       "      <td>0.709898</td>\n",
       "      <td>0.010239</td>\n",
       "    </tr>\n",
       "  </tbody>\n",
       "</table>\n",
       "</div>"
      ],
      "text/plain": [
       "              column  accuracy      diff\n",
       "1           industry  0.699659  0.000000\n",
       "2  employment_status  0.696246  0.003413\n",
       "0        lead_source  0.703072  0.003413\n",
       "3           location  0.709898  0.010239"
      ]
     },
     "execution_count": 23,
     "metadata": {},
     "output_type": "execute_result"
    }
   ],
   "source": [
    "results = []\n",
    "for col in cat_columns:\n",
    "    dv, model = train_model(df_train.drop(col, axis=1), y_train)\n",
    "    accuracy, _ = evaluate_model(dv, model, df_val.drop(col, axis=1), y_val)\n",
    "    results.append([col, accuracy])\n",
    "df_scores = pd.DataFrame(results, columns=['column','accuracy'])\n",
    "df_scores['diff'] = abs(global_accuracy - df_scores['accuracy'])\n",
    "df_scores.sort_values('diff', inplace=True)\n",
    "df_scores\n",
    "    "
   ]
  },
  {
   "cell_type": "markdown",
   "id": "1b8c94bb-c452-42ef-909f-c7beb0490ca8",
   "metadata": {},
   "source": [
    "Ans: `industry` has the smallest difference"
   ]
  },
  {
   "cell_type": "markdown",
   "id": "3e9b3bdd-cbe0-4dca-a6c0-dcdfa529df3b",
   "metadata": {},
   "source": [
    "### Question 6"
   ]
  },
  {
   "cell_type": "markdown",
   "id": "cd82dfd1-6931-4470-b1b2-5443248102c2",
   "metadata": {},
   "source": [
    "* Now let's train a regularized logistic regression.\n",
    "* Let's try the following values of the parameter C: [0.01, 0.1, 1, 10, 100].\n",
    "* Train models using all the features as in Q4.\n",
    "* Calculate the accuracy on the validation dataset and round it to 3 decimal digits."
   ]
  },
  {
   "cell_type": "code",
   "execution_count": 24,
   "id": "17fbb1d7-51b1-48b0-a747-b51a4ea34633",
   "metadata": {},
   "outputs": [
    {
     "data": {
      "text/html": [
       "<div>\n",
       "<style scoped>\n",
       "    .dataframe tbody tr th:only-of-type {\n",
       "        vertical-align: middle;\n",
       "    }\n",
       "\n",
       "    .dataframe tbody tr th {\n",
       "        vertical-align: top;\n",
       "    }\n",
       "\n",
       "    .dataframe thead th {\n",
       "        text-align: right;\n",
       "    }\n",
       "</style>\n",
       "<table border=\"1\" class=\"dataframe\">\n",
       "  <thead>\n",
       "    <tr style=\"text-align: right;\">\n",
       "      <th></th>\n",
       "      <th>C</th>\n",
       "      <th>accuracy</th>\n",
       "    </tr>\n",
       "  </thead>\n",
       "  <tbody>\n",
       "    <tr>\n",
       "      <th>0</th>\n",
       "      <td>0.01</td>\n",
       "      <td>0.699659</td>\n",
       "    </tr>\n",
       "    <tr>\n",
       "      <th>1</th>\n",
       "      <td>0.10</td>\n",
       "      <td>0.699659</td>\n",
       "    </tr>\n",
       "    <tr>\n",
       "      <th>2</th>\n",
       "      <td>1.00</td>\n",
       "      <td>0.699659</td>\n",
       "    </tr>\n",
       "    <tr>\n",
       "      <th>3</th>\n",
       "      <td>10.00</td>\n",
       "      <td>0.699659</td>\n",
       "    </tr>\n",
       "    <tr>\n",
       "      <th>4</th>\n",
       "      <td>100.00</td>\n",
       "      <td>0.699659</td>\n",
       "    </tr>\n",
       "  </tbody>\n",
       "</table>\n",
       "</div>"
      ],
      "text/plain": [
       "        C  accuracy\n",
       "0    0.01  0.699659\n",
       "1    0.10  0.699659\n",
       "2    1.00  0.699659\n",
       "3   10.00  0.699659\n",
       "4  100.00  0.699659"
      ]
     },
     "execution_count": 24,
     "metadata": {},
     "output_type": "execute_result"
    }
   ],
   "source": [
    "results = []\n",
    "for C in [0.01, 0.1, 1, 10, 100]:\n",
    "    dv, model = train_model(df_train, y_train, C)\n",
    "    accuracy, _ = evaluate_model(dv, model, df_val, y_val)\n",
    "    results.append([C, accuracy])\n",
    "df_scores = pd.DataFrame(results, columns=['C','accuracy'])\n",
    "df_scores.sort_values(['accuracy', 'C'], ascending=[False,True], inplace=True)\n",
    "df_scores"
   ]
  },
  {
   "cell_type": "markdown",
   "id": "1790fc08-dad8-4e61-afc1-3b2e2fbe33be",
   "metadata": {},
   "source": [
    "Ans: C = 0.01"
   ]
  },
  {
   "cell_type": "code",
   "execution_count": null,
   "id": "89cd96f4-2cc7-45f5-8e6c-57beef7b9608",
   "metadata": {},
   "outputs": [],
   "source": []
  },
  {
   "cell_type": "code",
   "execution_count": null,
   "id": "0dd35363-7e20-4baf-bde6-f6dbbdb42034",
   "metadata": {},
   "outputs": [],
   "source": []
  },
  {
   "cell_type": "code",
   "execution_count": null,
   "id": "ee4763a6-843e-4a7a-916d-78e9adfe7d36",
   "metadata": {},
   "outputs": [],
   "source": []
  }
 ],
 "metadata": {
  "kernelspec": {
   "display_name": "Python 3 (ipykernel)",
   "language": "python",
   "name": "python3"
  },
  "language_info": {
   "codemirror_mode": {
    "name": "ipython",
    "version": 3
   },
   "file_extension": ".py",
   "mimetype": "text/x-python",
   "name": "python",
   "nbconvert_exporter": "python",
   "pygments_lexer": "ipython3",
   "version": "3.11.13"
  }
 },
 "nbformat": 4,
 "nbformat_minor": 5
}
