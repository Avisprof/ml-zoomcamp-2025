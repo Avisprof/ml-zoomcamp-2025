{
 "cells": [
  {
   "cell_type": "markdown",
   "id": "76f54de9-a0ac-4539-b6a0-ff771074573a",
   "metadata": {},
   "source": [
    "https://github.com/DataTalksClub/machine-learning-zoomcamp/tree/master/05-deployment/workshop"
   ]
  },
  {
   "cell_type": "markdown",
   "id": "77d96b2a-b6a6-474f-904e-0edf0ba2d021",
   "metadata": {},
   "source": [
    "In this homework, we're going to continue working with the lead scoring dataset."
   ]
  },
  {
   "cell_type": "markdown",
   "id": "b832f639-7a32-4470-881f-47e9f9a17bc5",
   "metadata": {},
   "source": [
    "### Question 1"
   ]
  },
  {
   "cell_type": "code",
   "execution_count": 1,
   "id": "6bdec951-adf2-45f9-89fd-a5292726f53a",
   "metadata": {},
   "outputs": [
    {
     "name": "stdout",
     "output_type": "stream",
     "text": [
      "uv 0.9.7\n"
     ]
    }
   ],
   "source": [
    "!uv --version"
   ]
  },
  {
   "cell_type": "markdown",
   "id": "25b3dbd2-92ec-432e-8b45-51f0a3318059",
   "metadata": {},
   "source": [
    "Ans: 0.9.7"
   ]
  },
  {
   "cell_type": "code",
   "execution_count": 2,
   "id": "4c059b9a-14a5-44c7-bfd6-df103bbfc97a",
   "metadata": {},
   "outputs": [],
   "source": [
    "# Initialize an empty uv project\n",
    "# uv init"
   ]
  },
  {
   "cell_type": "markdown",
   "id": "9b70b242-74cc-4701-811f-a95e908f852c",
   "metadata": {},
   "source": [
    "### Question 2"
   ]
  },
  {
   "cell_type": "markdown",
   "id": "96185d7c-ddf2-4c82-bdf8-688bcc44df5e",
   "metadata": {},
   "source": [
    "* Use uv to install Scikit-Learn version 1.6.1\n",
    "* What's the first hash for Scikit-Learn you get in the lock file?\n",
    "* Include the entire string starting with sha256:, don't include quotes"
   ]
  },
  {
   "cell_type": "code",
   "execution_count": 6,
   "id": "423f95da-5890-41de-9745-3b4d5a81aacf",
   "metadata": {},
   "outputs": [
    {
     "name": "stdout",
     "output_type": "stream",
     "text": [
      "Using CPython 3.12.1 interpreter at: \u001b[36m/home/codespace/.python/current/bin/python3.12\u001b[39m\n",
      "Creating virtual environment at: \u001b[36m.venv\u001b[39m\n",
      "\u001b[2K\u001b[2mResolved \u001b[1m6 packages\u001b[0m \u001b[2min 93ms\u001b[0m\u001b[0m                                          \u001b[0m\n",
      "\u001b[2K\u001b[2mPrepared \u001b[1m5 packages\u001b[0m \u001b[2min 925ms\u001b[0m\u001b[0m                                             \n",
      "\u001b[2K░░░░░░░░░░░░░░░░░░░░ [0/5] \u001b[2mInstalling wheels...                                 \u001b[0m\u001b[1m\u001b[33mwarning\u001b[39m\u001b[0m\u001b[1m:\u001b[0m \u001b[1mFailed to hardlink files; falling back to full copy. This may lead to degraded performance.\n",
      "         If the cache and target directories are on different filesystems, hardlinking may not be supported.\n",
      "         If this is intentional, set `export UV_LINK_MODE=copy` or use `--link-mode=copy` to suppress this warning.\u001b[0m\n",
      "\u001b[2K\u001b[2mInstalled \u001b[1m5 packages\u001b[0m \u001b[2min 262ms\u001b[0m\u001b[0m                               \u001b[0m\n",
      " \u001b[32m+\u001b[39m \u001b[1mjoblib\u001b[0m\u001b[2m==1.5.2\u001b[0m\n",
      " \u001b[32m+\u001b[39m \u001b[1mnumpy\u001b[0m\u001b[2m==2.3.4\u001b[0m\n",
      " \u001b[32m+\u001b[39m \u001b[1mscikit-learn\u001b[0m\u001b[2m==1.6.1\u001b[0m\n",
      " \u001b[32m+\u001b[39m \u001b[1mscipy\u001b[0m\u001b[2m==1.16.3\u001b[0m\n",
      " \u001b[32m+\u001b[39m \u001b[1mthreadpoolctl\u001b[0m\u001b[2m==3.6.0\u001b[0m\n"
     ]
    }
   ],
   "source": [
    "!uv add scikit-learn==1.6.1 "
   ]
  },
  {
   "cell_type": "markdown",
   "id": "28c80b26-0eef-4a57-a029-c6429e93d33c",
   "metadata": {},
   "source": [
    "Ans: sha256:b4fc2525eca2c69a59260f583c56a7557c6ccdf8deafdba6e060f94c1c59738e"
   ]
  },
  {
   "cell_type": "markdown",
   "id": "76abe90e-1c16-4126-8cb2-90dec5e60380",
   "metadata": {},
   "source": [
    "### Models"
   ]
  },
  {
   "cell_type": "markdown",
   "id": "f367fcbc-1a43-4a65-91ca-33bd0b105e68",
   "metadata": {},
   "source": [
    "We have prepared a pipeline with a dictionary vectorizer and a model. And then saved with Pickle"
   ]
  },
  {
   "cell_type": "code",
   "execution_count": 3,
   "id": "ee35f1fb-adbe-4eaa-a66d-8cc7e3815b86",
   "metadata": {},
   "outputs": [
    {
     "name": "stdout",
     "output_type": "stream",
     "text": [
      "--2025-11-01 12:30:09--  https://github.com/DataTalksClub/machine-learning-zoomcamp/raw/refs/heads/master/cohorts/2025/05-deployment/pipeline_v1.bin\n",
      "Resolving github.com (github.com)... 140.82.121.4\n",
      "Connecting to github.com (github.com)|140.82.121.4|:443... connected.\n",
      "HTTP request sent, awaiting response... 302 Found\n",
      "Location: https://raw.githubusercontent.com/DataTalksClub/machine-learning-zoomcamp/refs/heads/master/cohorts/2025/05-deployment/pipeline_v1.bin [following]\n",
      "--2025-11-01 12:30:09--  https://raw.githubusercontent.com/DataTalksClub/machine-learning-zoomcamp/refs/heads/master/cohorts/2025/05-deployment/pipeline_v1.bin\n",
      "Resolving raw.githubusercontent.com (raw.githubusercontent.com)... 185.199.109.133, 185.199.108.133, 185.199.111.133, ...\n",
      "Connecting to raw.githubusercontent.com (raw.githubusercontent.com)|185.199.109.133|:443... connected.\n",
      "HTTP request sent, awaiting response... 200 OK\n",
      "Length: 1300 (1.3K) [application/octet-stream]\n",
      "Saving to: ‘pipeline_v1.bin’\n",
      "\n",
      "pipeline_v1.bin     100%[===================>]   1.27K  --.-KB/s    in 0s      \n",
      "\n",
      "2025-11-01 12:30:09 (116 MB/s) - ‘pipeline_v1.bin’ saved [1300/1300]\n",
      "\n"
     ]
    }
   ],
   "source": [
    "!wget https://github.com/DataTalksClub/machine-learning-zoomcamp/raw/refs/heads/master/cohorts/2025/05-deployment/pipeline_v1.bin"
   ]
  },
  {
   "cell_type": "markdown",
   "id": "86c8caf5-7ea2-4416-94d9-5c7d41e90c54",
   "metadata": {},
   "source": [
    "### Question 3"
   ]
  },
  {
   "cell_type": "markdown",
   "id": "a9032183-4153-47ac-b069-8abdd4fa1a36",
   "metadata": {},
   "source": [
    "Let's use the model!\n",
    "Write a script for loading the pipeline with pickle"
   ]
  },
  {
   "cell_type": "code",
   "execution_count": 4,
   "id": "83ac5be9-b9ed-4f0e-8330-21b7e6174294",
   "metadata": {},
   "outputs": [],
   "source": [
    "import pickle"
   ]
  },
  {
   "cell_type": "code",
   "execution_count": 5,
   "id": "4cedf49c-51f8-4ad5-8bfe-997ca7845ffa",
   "metadata": {},
   "outputs": [],
   "source": [
    "# Score this record:\n",
    "record = {\n",
    "    \"lead_source\": \"paid_ads\",\n",
    "    \"number_of_courses_viewed\": 2,\n",
    "    \"annual_income\": 79276.0\n",
    "}"
   ]
  },
  {
   "cell_type": "code",
   "execution_count": 7,
   "id": "0e5fac86-e2fa-464c-b0da-240223f7783b",
   "metadata": {},
   "outputs": [],
   "source": [
    "with open('pipeline_v1.bin', 'rb') as f_in:\n",
    "    pipeline = pickle.load(f_in)"
   ]
  },
  {
   "cell_type": "code",
   "execution_count": 9,
   "id": "55b9cb40-04f7-4e03-8a01-fd25c2e0620b",
   "metadata": {},
   "outputs": [
    {
     "data": {
      "text/plain": [
       "np.float64(0.5336072702798061)"
      ]
     },
     "execution_count": 9,
     "metadata": {},
     "output_type": "execute_result"
    }
   ],
   "source": [
    "# What's the probability that this lead will convert?\n",
    "pipeline.predict_proba(record)[0,1]"
   ]
  },
  {
   "cell_type": "markdown",
   "id": "8ee0d437-8c2e-49a9-b32e-4721aec95d18",
   "metadata": {},
   "source": [
    "Ans: 0.533"
   ]
  },
  {
   "cell_type": "markdown",
   "id": "75bb228c-4926-4f63-871f-7220843b933a",
   "metadata": {},
   "source": [
    "### Question 4"
   ]
  },
  {
   "cell_type": "markdown",
   "id": "efd63609-b872-4c6a-8a11-02046b34ffae",
   "metadata": {},
   "source": [
    "Now let's serve this model as a web service:\n",
    "* Install FastAPI\n",
    "* Write FastAPI code for serving the model"
   ]
  },
  {
   "cell_type": "code",
   "execution_count": 12,
   "id": "3108e148-199e-4deb-a2c5-a3eb81e0ae52",
   "metadata": {},
   "outputs": [
    {
     "name": "stdout",
     "output_type": "stream",
     "text": [
      "\u001b[2K\u001b[2mResolved \u001b[1m116 packages\u001b[0m \u001b[2min 380ms\u001b[0m\u001b[0m                                       \u001b[0m\n",
      "\u001b[2K\u001b[2mPrepared \u001b[1m2 packages\u001b[0m \u001b[2min 12ms\u001b[0m\u001b[0m                                              \n",
      "\u001b[2K░░░░░░░░░░░░░░░░░░░░ [0/2] \u001b[2mInstalling wheels...                                 \u001b[0m\u001b[1m\u001b[33mwarning\u001b[39m\u001b[0m\u001b[1m:\u001b[0m \u001b[1mFailed to hardlink files; falling back to full copy. This may lead to degraded performance.\n",
      "         If the cache and target directories are on different filesystems, hardlinking may not be supported.\n",
      "         If this is intentional, set `export UV_LINK_MODE=copy` or use `--link-mode=copy` to suppress this warning.\u001b[0m\n",
      "\u001b[2K\u001b[2mInstalled \u001b[1m2 packages\u001b[0m \u001b[2min 3ms\u001b[0m\u001b[0m                                 \u001b[0m\n",
      " \u001b[32m+\u001b[39m \u001b[1mclick\u001b[0m\u001b[2m==8.3.0\u001b[0m\n",
      " \u001b[32m+\u001b[39m \u001b[1muvicorn\u001b[0m\u001b[2m==0.38.0\u001b[0m\n"
     ]
    }
   ],
   "source": [
    "!uv add fastapi uvicorn"
   ]
  },
  {
   "cell_type": "code",
   "execution_count": 17,
   "id": "e92715a7-de72-4620-a941-08804072d38a",
   "metadata": {},
   "outputs": [],
   "source": [
    "import requests"
   ]
  },
  {
   "cell_type": "code",
   "execution_count": 26,
   "id": "52218d59-d878-416c-a258-0434a75529ef",
   "metadata": {},
   "outputs": [
    {
     "data": {
      "text/plain": [
       "{'subscription_probability': 0.5340417283801275, 'subscription': True}"
      ]
     },
     "execution_count": 26,
     "metadata": {},
     "output_type": "execute_result"
    }
   ],
   "source": [
    "url = \"http://localhost:9696/predict\"\n",
    "\n",
    "client = {\n",
    "    \"lead_source\": \"organic_search\",\n",
    "    \"number_of_courses_viewed\": 4,\n",
    "    \"annual_income\": 80304.0\n",
    "}\n",
    "\n",
    "requests.post(url, json=client).json()"
   ]
  },
  {
   "cell_type": "markdown",
   "id": "9ca9c119-b21f-45a4-9f47-c6e01aac8d31",
   "metadata": {},
   "source": [
    "What's the probability that this client will get a subscription?"
   ]
  },
  {
   "cell_type": "markdown",
   "id": "7739244b-b631-4ce1-9fdf-0dae70481e82",
   "metadata": {},
   "source": [
    "Ans: 0.534"
   ]
  },
  {
   "cell_type": "markdown",
   "id": "a5a814f6-d7cc-4bdc-a273-d8e00521501d",
   "metadata": {},
   "source": [
    "### Docker"
   ]
  },
  {
   "cell_type": "markdown",
   "id": "71666612-3c45-4dfb-bdfb-b9a4e0f0f308",
   "metadata": {},
   "source": [
    "For these questions, we prepared a base image: `agrigorev/zoomcamp-model:2025`. You'll need to use it"
   ]
  },
  {
   "cell_type": "markdown",
   "id": "e89a16bc-a89a-4dbd-b34a-c0d0f4a1d458",
   "metadata": {},
   "source": [
    "This image is based on `3.13.5-slim-bookworm` and has a pipeline with logistic regression (a different one) as well a dictionary vectorizer inside.\n",
    "\n",
    "This is how the Dockerfile for this image looks like:"
   ]
  },
  {
   "cell_type": "raw",
   "id": "49c3a8b4-cd38-49ea-8d3b-ef8facdba810",
   "metadata": {},
   "source": [
    "FROM python:3.13.5-slim-bookworm\n",
    "WORKDIR /code\n",
    "COPY pipeline_v2.bin ."
   ]
  },
  {
   "cell_type": "markdown",
   "id": "17ca2953-c50b-49e0-a95c-e5e63d251b28",
   "metadata": {},
   "source": [
    "### Question 5"
   ]
  },
  {
   "cell_type": "markdown",
   "id": "60d015bf-8e80-42e4-bad4-b7a4d21a3eb5",
   "metadata": {},
   "source": [
    "Download the base image `agrigorev/zoomcamp-model:2025`"
   ]
  },
  {
   "cell_type": "code",
   "execution_count": 32,
   "id": "8901c18e-fab6-43e4-9f18-79a20804473a",
   "metadata": {},
   "outputs": [
    {
     "name": "stdout",
     "output_type": "stream",
     "text": [
      "2025: Pulling from agrigorev/zoomcamp-model\n",
      "\n",
      "\u001b[1B2667830b: Pulling fs layer \n",
      "\u001b[1B1082f6f0: Pulling fs layer \n",
      "\u001b[1Bf5177ae2: Pulling fs layer \n",
      "\u001b[1B357cf7a1: Pulling fs layer \n",
      "\u001b[1B2b9cc6ee: Pulling fs layer \n",
      "\u001b[1BDigest: sha256:14d79fde0bbf078eb18c99c2bd007205917b758ec11060b2994963a1e485c2ae\n",
      "Status: Downloaded newer image for agrigorev/zoomcamp-model:2025\n",
      "docker.io/agrigorev/zoomcamp-model:2025\n"
     ]
    }
   ],
   "source": [
    "!docker pull agrigorev/zoomcamp-model:2025"
   ]
  },
  {
   "cell_type": "code",
   "execution_count": 33,
   "id": "44081d39-dd25-44e6-84d8-dcbd706d53a4",
   "metadata": {},
   "outputs": [
    {
     "name": "stdout",
     "output_type": "stream",
     "text": [
      "REPOSITORY                 TAG       IMAGE ID       CREATED       SIZE\n",
      "agrigorev/zoomcamp-model   2025      4a9ecc576ae9   11 days ago   121MB\n"
     ]
    }
   ],
   "source": [
    "# what's the size of this base image?\n",
    "!docker images"
   ]
  },
  {
   "cell_type": "markdown",
   "id": "e4acdcc6-ac1f-45d5-9787-c927f065b8e0",
   "metadata": {},
   "source": [
    "Ans: 121 MB"
   ]
  },
  {
   "cell_type": "markdown",
   "id": "a5761dcf-7c4f-4db8-81c7-3433488414f5",
   "metadata": {},
   "source": [
    "### Dockerfile"
   ]
  },
  {
   "cell_type": "markdown",
   "id": "9923d826-7d4e-4ebd-868e-a5d3adf0e0bb",
   "metadata": {},
   "source": [
    "Now create your own Dockerfile based on the image we prepared."
   ]
  },
  {
   "cell_type": "markdown",
   "id": "73a1ef41-7150-4224-a0be-d34d5810d16b",
   "metadata": {},
   "source": [
    "It should start like that:"
   ]
  },
  {
   "cell_type": "raw",
   "id": "97cb72ad-784b-436c-9a3b-e7270e3bdf3a",
   "metadata": {},
   "source": [
    "FROM agrigorev/zoomcamp-model:2025\n",
    "# add your stuff here"
   ]
  },
  {
   "cell_type": "markdown",
   "id": "dcfac16b-517f-4215-ab76-d041bb1087d9",
   "metadata": {},
   "source": [
    "Now complete it:\n",
    "\n",
    "* Install all the dependencies from pyproject.toml\n",
    "* Copy your FastAPI script\n",
    "* Run it with uvicorn"
   ]
  },
  {
   "cell_type": "code",
   "execution_count": 37,
   "id": "0718f5bd-e738-44e0-8646-567de2cf924a",
   "metadata": {},
   "outputs": [],
   "source": [
    "# docker build -t subscription-prediction .\n",
    "# docker run -it --rm -p 9696:9696 -e MODEL_NAME=pipeline_v2.bin subscription-prediction"
   ]
  },
  {
   "cell_type": "markdown",
   "id": "8e09acab-f306-41df-9128-1acbaf9d6e82",
   "metadata": {},
   "source": [
    "### Question 6"
   ]
  },
  {
   "cell_type": "markdown",
   "id": "cd63caef-c014-4d48-93b7-8785886adf97",
   "metadata": {},
   "source": [
    "After running it, score this client once again"
   ]
  },
  {
   "cell_type": "code",
   "execution_count": 38,
   "id": "a2602cf8-cf19-458c-ae23-f15606e599a8",
   "metadata": {},
   "outputs": [
    {
     "data": {
      "text/plain": [
       "{'model_name': 'pipeline_v2.bin',\n",
       " 'subscription_probability': 0.9933071490756734,\n",
       " 'subscription': True}"
      ]
     },
     "execution_count": 38,
     "metadata": {},
     "output_type": "execute_result"
    }
   ],
   "source": [
    "requests.post(url, json=client).json()"
   ]
  },
  {
   "cell_type": "markdown",
   "id": "4400984d-4e29-4325-b542-d7a7e53620eb",
   "metadata": {},
   "source": [
    "Ans: 0.99"
   ]
  },
  {
   "cell_type": "code",
   "execution_count": null,
   "id": "a210d213-2286-4624-8bd5-4d0ab372d35e",
   "metadata": {},
   "outputs": [],
   "source": []
  }
 ],
 "metadata": {
  "kernelspec": {
   "display_name": "Python 3 (ipykernel)",
   "language": "python",
   "name": "python3"
  },
  "language_info": {
   "codemirror_mode": {
    "name": "ipython",
    "version": 3
   },
   "file_extension": ".py",
   "mimetype": "text/x-python",
   "name": "python",
   "nbconvert_exporter": "python",
   "pygments_lexer": "ipython3",
   "version": "3.12.1"
  }
 },
 "nbformat": 4,
 "nbformat_minor": 5
}
