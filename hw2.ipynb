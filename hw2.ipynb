{
 "cells": [
  {
   "cell_type": "markdown",
   "id": "97fb6946-77e7-4267-941b-a06aca73fa7e",
   "metadata": {},
   "source": [
    "https://github.com/DataTalksClub/machine-learning-zoomcamp/blob/master/cohorts/2025/02-regression/homework.md"
   ]
  },
  {
   "cell_type": "markdown",
   "id": "03d6eed1-f027-4870-94a6-45293a22163c",
   "metadata": {},
   "source": [
    "The goal of this homework is to create a regression model for predicting the car fuel efficiency (column 'fuel_efficiency_mpg')"
   ]
  },
  {
   "cell_type": "code",
   "execution_count": 1,
   "id": "14122f72-4418-4378-a8cf-a6034eb929dd",
   "metadata": {},
   "outputs": [],
   "source": [
    "import numpy as np\n",
    "import pandas as pd\n",
    "import matplotlib.pyplot as plt\n",
    "import seaborn as sns"
   ]
  },
  {
   "cell_type": "code",
   "execution_count": 2,
   "id": "1d245137-5948-4062-8aa1-60d1aae719d3",
   "metadata": {},
   "outputs": [],
   "source": [
    "# Use only the following columns:\n",
    "columns = ['engine_displacement','horsepower','vehicle_weight','model_year','fuel_efficiency_mpg']"
   ]
  },
  {
   "cell_type": "code",
   "execution_count": 3,
   "id": "7b7789fc-097d-4980-a2b7-c355278ff29e",
   "metadata": {},
   "outputs": [
    {
     "name": "stdout",
     "output_type": "stream",
     "text": [
      "(9704, 5)\n"
     ]
    },
    {
     "data": {
      "text/html": [
       "<div>\n",
       "<style scoped>\n",
       "    .dataframe tbody tr th:only-of-type {\n",
       "        vertical-align: middle;\n",
       "    }\n",
       "\n",
       "    .dataframe tbody tr th {\n",
       "        vertical-align: top;\n",
       "    }\n",
       "\n",
       "    .dataframe thead th {\n",
       "        text-align: right;\n",
       "    }\n",
       "</style>\n",
       "<table border=\"1\" class=\"dataframe\">\n",
       "  <thead>\n",
       "    <tr style=\"text-align: right;\">\n",
       "      <th></th>\n",
       "      <th>engine_displacement</th>\n",
       "      <th>horsepower</th>\n",
       "      <th>vehicle_weight</th>\n",
       "      <th>model_year</th>\n",
       "      <th>fuel_efficiency_mpg</th>\n",
       "    </tr>\n",
       "  </thead>\n",
       "  <tbody>\n",
       "    <tr>\n",
       "      <th>0</th>\n",
       "      <td>170</td>\n",
       "      <td>159.0</td>\n",
       "      <td>3413.433759</td>\n",
       "      <td>2003</td>\n",
       "      <td>13.231729</td>\n",
       "    </tr>\n",
       "    <tr>\n",
       "      <th>1</th>\n",
       "      <td>130</td>\n",
       "      <td>97.0</td>\n",
       "      <td>3149.664934</td>\n",
       "      <td>2007</td>\n",
       "      <td>13.688217</td>\n",
       "    </tr>\n",
       "    <tr>\n",
       "      <th>2</th>\n",
       "      <td>170</td>\n",
       "      <td>78.0</td>\n",
       "      <td>3079.038997</td>\n",
       "      <td>2018</td>\n",
       "      <td>14.246341</td>\n",
       "    </tr>\n",
       "    <tr>\n",
       "      <th>3</th>\n",
       "      <td>220</td>\n",
       "      <td>NaN</td>\n",
       "      <td>2542.392402</td>\n",
       "      <td>2009</td>\n",
       "      <td>16.912736</td>\n",
       "    </tr>\n",
       "    <tr>\n",
       "      <th>4</th>\n",
       "      <td>210</td>\n",
       "      <td>140.0</td>\n",
       "      <td>3460.870990</td>\n",
       "      <td>2009</td>\n",
       "      <td>12.488369</td>\n",
       "    </tr>\n",
       "  </tbody>\n",
       "</table>\n",
       "</div>"
      ],
      "text/plain": [
       "   engine_displacement  horsepower  vehicle_weight  model_year  \\\n",
       "0                  170       159.0     3413.433759        2003   \n",
       "1                  130        97.0     3149.664934        2007   \n",
       "2                  170        78.0     3079.038997        2018   \n",
       "3                  220         NaN     2542.392402        2009   \n",
       "4                  210       140.0     3460.870990        2009   \n",
       "\n",
       "   fuel_efficiency_mpg  \n",
       "0            13.231729  \n",
       "1            13.688217  \n",
       "2            14.246341  \n",
       "3            16.912736  \n",
       "4            12.488369  "
      ]
     },
     "execution_count": 3,
     "metadata": {},
     "output_type": "execute_result"
    }
   ],
   "source": [
    "df = pd.read_csv('data/car_fuel_efficiency.csv', usecols=columns)\n",
    "print(df.shape)\n",
    "df.head()"
   ]
  },
  {
   "cell_type": "code",
   "execution_count": 4,
   "id": "db9943a1-ca39-4844-94d5-b050351381fb",
   "metadata": {},
   "outputs": [
    {
     "data": {
      "image/png": "[encoded data removed]",
      "text/plain": [
       "<Figure size 640x480 with 1 Axes>"
      ]
     },
     "metadata": {},
     "output_type": "display_data"
    }
   ],
   "source": [
    "df['fuel_efficiency_mpg'].hist(bins=30);"
   ]
  },
  {
   "cell_type": "markdown",
   "id": "2c650be5-ad56-4f72-b717-c5ab088016ee",
   "metadata": {},
   "source": [
    "The distribution looks normal"
   ]
  },
  {
   "cell_type": "markdown",
   "id": "129c2d5e-f1ca-4f9d-bfc9-1afdb93125c8",
   "metadata": {},
   "source": [
    "### Question 1\n",
    "There's one column with missing values. What is it?"
   ]
  },
  {
   "cell_type": "code",
   "execution_count": 5,
   "id": "56accc9c-d9f9-4471-a88e-08b1fa4272e6",
   "metadata": {},
   "outputs": [
    {
     "data": {
      "text/plain": [
       "engine_displacement      0\n",
       "horsepower             708\n",
       "vehicle_weight           0\n",
       "model_year               0\n",
       "fuel_efficiency_mpg      0\n",
       "dtype: int64"
      ]
     },
     "execution_count": 5,
     "metadata": {},
     "output_type": "execute_result"
    }
   ],
   "source": [
    "df.isna().sum()"
   ]
  },
  {
   "cell_type": "markdown",
   "id": "d78255c3-1896-436a-9a85-56aedf51dfe0",
   "metadata": {},
   "source": [
    "Ans: horsepower"
   ]
  },
  {
   "cell_type": "markdown",
   "id": "030c8462-dc6e-448a-af43-f3b2714109ab",
   "metadata": {},
   "source": [
    "### Question 2\n",
    "What's the median (50% percentile) for variable 'horsepower'?"
   ]
  },
  {
   "cell_type": "code",
   "execution_count": 6,
   "id": "ebf363a9-9a07-4d93-bafc-781917704032",
   "metadata": {},
   "outputs": [
    {
     "data": {
      "text/plain": [
       "149.0"
      ]
     },
     "execution_count": 6,
     "metadata": {},
     "output_type": "execute_result"
    }
   ],
   "source": [
    "df['horsepower'].median()"
   ]
  },
  {
   "cell_type": "markdown",
   "id": "0ed583d9-f6c6-4495-9edc-74ccaca79509",
   "metadata": {},
   "source": [
    "Ans: 149"
   ]
  },
  {
   "cell_type": "markdown",
   "id": "d26254b0-6276-4baf-bd8a-f4ce0bfe006f",
   "metadata": {},
   "source": [
    "# Split the data"
   ]
  },
  {
   "cell_type": "code",
   "execution_count": 7,
   "id": "8985cee2-7dde-4e35-ac04-a516c2e2353d",
   "metadata": {},
   "outputs": [],
   "source": [
    "# Shuffle the dataset (the filtered one you created above), use seed 42.\n",
    "n = len(df)\n",
    "idx = np.arange(n)\n",
    "np.random.seed(42)\n",
    "np.random.shuffle(idx)"
   ]
  },
  {
   "cell_type": "code",
   "execution_count": 8,
   "id": "a64ec957-6759-40e9-9b7d-3aed01f2b24f",
   "metadata": {},
   "outputs": [
    {
     "data": {
      "text/plain": [
       "(9704, 5824, 1940, 1940)"
      ]
     },
     "execution_count": 8,
     "metadata": {},
     "output_type": "execute_result"
    }
   ],
   "source": [
    "# Split your data in train/val/test sets, with 60%/20%/20% distribution.\n",
    "n_test = int(n * 0.2)\n",
    "n_val = int(n * 0.2)\n",
    "n_train = n - n_test - n_val\n",
    "n, n_train, n_val, n_test"
   ]
  },
  {
   "cell_type": "code",
   "execution_count": 9,
   "id": "c4be941e-e329-4654-8735-1cab4d15137e",
   "metadata": {},
   "outputs": [
    {
     "data": {
      "text/plain": [
       "(5824, 1940, 1940)"
      ]
     },
     "execution_count": 9,
     "metadata": {},
     "output_type": "execute_result"
    }
   ],
   "source": [
    "df_train = df.iloc[idx[:n_train]]\n",
    "df_val = df.iloc[idx[n_train:n_train+n_val]]\n",
    "df_test = df.iloc[idx[n_train+n_val:]]\n",
    "len(df_train), len(df_test), len(df_val)"
   ]
  },
  {
   "cell_type": "code",
   "execution_count": 10,
   "id": "f252f065-6b2a-42a5-b7f9-f50d68a83493",
   "metadata": {},
   "outputs": [],
   "source": [
    "df_train.reset_index(drop=True,inplace=True)\n",
    "df_val.reset_index(drop=True,inplace=True)\n",
    "df_test.reset_index(drop=True,inplace=True)"
   ]
  },
  {
   "cell_type": "code",
   "execution_count": 11,
   "id": "e92f5586-1887-480f-8a53-4e5d82b16f23",
   "metadata": {},
   "outputs": [
    {
     "data": {
      "text/plain": [
       "(5824, 1940, 1940)"
      ]
     },
     "execution_count": 11,
     "metadata": {},
     "output_type": "execute_result"
    }
   ],
   "source": [
    "y_train = df_train.pop('fuel_efficiency_mpg')\n",
    "y_val = df_val.pop('fuel_efficiency_mpg')\n",
    "y_test = df_test.pop('fuel_efficiency_mpg')\n",
    "len(y_train), len(y_val), len(y_test)"
   ]
  },
  {
   "cell_type": "markdown",
   "id": "b7ec258e-84fc-41d7-a33c-7561cc6a282e",
   "metadata": {},
   "source": [
    "### Question 3"
   ]
  },
  {
   "cell_type": "markdown",
   "id": "e5c4ddb2-5414-49a5-a4b2-b2bb7667ecd4",
   "metadata": {},
   "source": [
    "* We need to deal with missing values for the column from Q1.\n",
    "* We have two options: fill it with 0 or with the mean of this variable.\n",
    "* Try both options. For each, train a linear regression model without regularization using the code from the lessons.\n",
    "* For computing the mean, use the training only!\n",
    "* Use the validation dataset to evaluate the models and compare the RMSE of each option.\n",
    "* Round the RMSE scores to 2 decimal digits using round(score, 2)\n",
    "* Which option gives better RMSE?"
   ]
  },
  {
   "cell_type": "code",
   "execution_count": 12,
   "id": "38d466fb-4ccd-4a78-934e-fd7c8bf038e7",
   "metadata": {},
   "outputs": [],
   "source": [
    "def train_linear_regression(X, y):\n",
    "    X = X.copy()\n",
    "    ones = np.ones(len(X))\n",
    "    X = np.column_stack([ones, X])\n",
    "    XTX = X.T @ X\n",
    "    XTX_inv = np.linalg.inv(XTX)\n",
    "    temp = XTX_inv @ X.T\n",
    "    w = temp @ y\n",
    "    return w[0], w[1:]"
   ]
  },
  {
   "cell_type": "code",
   "execution_count": 13,
   "id": "9eaee1a8-185c-4b5e-a257-efbc08962359",
   "metadata": {},
   "outputs": [],
   "source": [
    "def predict(X, w0, w):\n",
    "    return w0 + X @ w"
   ]
  },
  {
   "cell_type": "code",
   "execution_count": 14,
   "id": "e9c59fb2-8039-4052-8800-7468eeb8fcf6",
   "metadata": {},
   "outputs": [],
   "source": [
    "def rmse(y, y_pred):\n",
    "    se = (y - y_pred) ** 2\n",
    "    mse = np.mean(se)\n",
    "    return np.sqrt(mse)"
   ]
  },
  {
   "cell_type": "code",
   "execution_count": 15,
   "id": "0eadbb59-678c-4b8e-b4ea-9ef07e6a0837",
   "metadata": {},
   "outputs": [
    {
     "name": "stdout",
     "output_type": "stream",
     "text": [
      "zeros 0.52\n",
      "mean 0.46\n"
     ]
    }
   ],
   "source": [
    "methods = [('zeros',0), \n",
    "           ('mean', df_train['horsepower'].mean())]\n",
    "\n",
    "for method, value in methods:\n",
    "    w0, w = train_linear_regression(df_train.fillna(value), y_train)\n",
    "    y_pred = predict(df_val.fillna(value), w0, w)\n",
    "    print(method, rmse(y_val, y_pred).round(2))"
   ]
  },
  {
   "cell_type": "markdown",
   "id": "62eb6a72-df8a-400d-bb73-bfbcad158cd8",
   "metadata": {},
   "source": [
    "Ans: model gives better RMSE with the filling of missing values with mean value"
   ]
  },
  {
   "cell_type": "markdown",
   "id": "85fd48c9-5e1b-4e7b-a6e6-fdbf74b5a30d",
   "metadata": {},
   "source": [
    "### Question 4"
   ]
  },
  {
   "cell_type": "markdown",
   "id": "79a365ea-6805-4e13-bf75-7c97f8461f7f",
   "metadata": {},
   "source": [
    "* Now let's train a regularized linear regression.\n",
    "* For this question, fill the NAs with 0.\n",
    "* Try different values of r from this list: [0, 0.01, 0.1, 1, 5, 10, 100].\n",
    "* Use RMSE to evaluate the model on the validation dataset.\n",
    "* Round the RMSE scores to 2 decimal digits.\n",
    "* Which r gives the best RMSE?"
   ]
  },
  {
   "cell_type": "code",
   "execution_count": 16,
   "id": "36b7daec-758f-436f-b5c0-3c221f87a405",
   "metadata": {},
   "outputs": [],
   "source": [
    "def train_linear_regression_regularized(X, y, r=0.01):\n",
    "    X = X.copy()\n",
    "    ones = np.ones(len(X))\n",
    "    X = np.column_stack([ones, X])\n",
    "    XTX = X.T @ X\n",
    "    XTX += r * np.eye(len(XTX))\n",
    "    XTX_inv = np.linalg.inv(XTX)\n",
    "    temp = XTX_inv @ X.T\n",
    "    w = temp @ y\n",
    "    return w[0], w[1:]"
   ]
  },
  {
   "cell_type": "code",
   "execution_count": 17,
   "id": "c359cc0a-82bc-4157-97b8-ac606a9c52fe",
   "metadata": {},
   "outputs": [
    {
     "data": {
      "text/html": [
       "<div>\n",
       "<style scoped>\n",
       "    .dataframe tbody tr th:only-of-type {\n",
       "        vertical-align: middle;\n",
       "    }\n",
       "\n",
       "    .dataframe tbody tr th {\n",
       "        vertical-align: top;\n",
       "    }\n",
       "\n",
       "    .dataframe thead th {\n",
       "        text-align: right;\n",
       "    }\n",
       "</style>\n",
       "<table border=\"1\" class=\"dataframe\">\n",
       "  <thead>\n",
       "    <tr style=\"text-align: right;\">\n",
       "      <th></th>\n",
       "      <th>r</th>\n",
       "      <th>RMSE</th>\n",
       "    </tr>\n",
       "  </thead>\n",
       "  <tbody>\n",
       "    <tr>\n",
       "      <th>0</th>\n",
       "      <td>0.00</td>\n",
       "      <td>0.52</td>\n",
       "    </tr>\n",
       "    <tr>\n",
       "      <th>1</th>\n",
       "      <td>0.01</td>\n",
       "      <td>0.52</td>\n",
       "    </tr>\n",
       "    <tr>\n",
       "      <th>2</th>\n",
       "      <td>0.10</td>\n",
       "      <td>0.52</td>\n",
       "    </tr>\n",
       "    <tr>\n",
       "      <th>3</th>\n",
       "      <td>1.00</td>\n",
       "      <td>0.52</td>\n",
       "    </tr>\n",
       "    <tr>\n",
       "      <th>4</th>\n",
       "      <td>5.00</td>\n",
       "      <td>0.52</td>\n",
       "    </tr>\n",
       "    <tr>\n",
       "      <th>5</th>\n",
       "      <td>10.00</td>\n",
       "      <td>0.52</td>\n",
       "    </tr>\n",
       "    <tr>\n",
       "      <th>6</th>\n",
       "      <td>100.00</td>\n",
       "      <td>0.52</td>\n",
       "    </tr>\n",
       "  </tbody>\n",
       "</table>\n",
       "</div>"
      ],
      "text/plain": [
       "        r  RMSE\n",
       "0    0.00  0.52\n",
       "1    0.01  0.52\n",
       "2    0.10  0.52\n",
       "3    1.00  0.52\n",
       "4    5.00  0.52\n",
       "5   10.00  0.52\n",
       "6  100.00  0.52"
      ]
     },
     "execution_count": 17,
     "metadata": {},
     "output_type": "execute_result"
    }
   ],
   "source": [
    "scores = []\n",
    "for r in [0, 0.01, 0.1, 1, 5, 10, 100]:\n",
    "    w0, w = train_linear_regression_regularized(df_train.fillna(0), y_train, r)\n",
    "    y_pred = predict(df_val.fillna(0), w0, w)\n",
    "    scores.append([r, rmse(y_val, y_pred).round(2)])    \n",
    "df_scores = pd.DataFrame(scores, columns=['r','RMSE'])\n",
    "df_scores.sort_values(['RMSE', 'r'], inplace=True)\n",
    "df_scores"
   ]
  },
  {
   "cell_type": "markdown",
   "id": "ad12fc5f-6f7a-41e9-b202-b02a8c3f463e",
   "metadata": {},
   "source": [
    "Answer: r = 0 gives the best RMSE"
   ]
  },
  {
   "cell_type": "markdown",
   "id": "8e7231ba-5257-4c64-bcc6-4d2372e811a4",
   "metadata": {},
   "source": [
    "### Question 5"
   ]
  },
  {
   "cell_type": "markdown",
   "id": "4b0d4aa4-dfd7-4c89-99cd-d367123e7dec",
   "metadata": {},
   "source": [
    "* We used seed 42 for splitting the data. Let's find out how selecting the seed influences our score.\n",
    "* Try different seed values: [0, 1, 2, 3, 4, 5, 6, 7, 8, 9].\n",
    "* For each seed, do the train/validation/test split with 60%/20%/20% distribution.\n",
    "* Fill the missing values with 0 and train a model without regularization.\n",
    "* For each seed, evaluate the model on the validation dataset and collect the RMSE scores.\n",
    "* What's the standard deviation of all the scores? To compute the standard deviation, use np.std.\n",
    "* Round the result to 3 decimal digits (round(std, 3))"
   ]
  },
  {
   "cell_type": "code",
   "execution_count": 18,
   "id": "dbd99f81-5906-4a77-8485-54879e435968",
   "metadata": {},
   "outputs": [
    {
     "name": "stdout",
     "output_type": "stream",
     "text": [
      "seed: 0, RMSE 0.5206531296286018\n",
      "seed: 1, RMSE 0.5213388912861504\n",
      "seed: 2, RMSE 0.5228069974692388\n",
      "seed: 3, RMSE 0.5159516741085217\n",
      "seed: 4, RMSE 0.5109129460088697\n",
      "seed: 5, RMSE 0.5283406460156541\n",
      "seed: 6, RMSE 0.531391065815884\n",
      "seed: 7, RMSE 0.509067038737912\n",
      "seed: 8, RMSE 0.5147399129397889\n",
      "seed: 9, RMSE 0.5131865908276104\n"
     ]
    },
    {
     "data": {
      "text/plain": [
       "np.float64(0.0069)"
      ]
     },
     "execution_count": 18,
     "metadata": {},
     "output_type": "execute_result"
    }
   ],
   "source": [
    "scores = []\n",
    "\n",
    "n = len(df)\n",
    "n_test = int(n * 0.2)\n",
    "n_val = int(n * 0.2)\n",
    "n_train = n - n_test - n_val\n",
    "\n",
    "for seed in [0, 1, 2, 3, 4, 5, 6, 7, 8, 9]:\n",
    "    \n",
    "    idx = np.arange(n)\n",
    "    np.random.seed(seed)\n",
    "    np.random.shuffle(idx)\n",
    "\n",
    "    df_train = df.iloc[idx[:n_train]]\n",
    "    df_val = df.iloc[idx[n_train:n_train+n_val]]\n",
    "\n",
    "    y_train = df_train.pop('fuel_efficiency_mpg')\n",
    "    y_val = df_val.pop('fuel_efficiency_mpg')\n",
    "\n",
    "    w0, w = train_linear_regression(df_train.fillna(0), y_train)\n",
    "    y_pred = predict(df_val.fillna(0), w0, w)\n",
    "\n",
    "    score = rmse(y_val, y_pred)\n",
    "    scores.append(score.round(3))\n",
    "    print(f\"seed: {seed}, RMSE {score}\")\n",
    "\n",
    "np.std(scores).round(4)"
   ]
  },
  {
   "cell_type": "markdown",
   "id": "37a776b6-aba7-47d0-be77-4f2084de721f",
   "metadata": {},
   "source": [
    "Ans: Standard deviation is 0.006"
   ]
  },
  {
   "cell_type": "markdown",
   "id": "7688e696-c47a-4e84-b70a-0ba0aff19bf5",
   "metadata": {},
   "source": [
    "### Question 6"
   ]
  },
  {
   "cell_type": "markdown",
   "id": "dc6e4f36-8c70-4cf8-b13c-21d0b26f67a9",
   "metadata": {},
   "source": [
    "* Split the dataset like previously, use seed 9.\n",
    "* Combine train and validation datasets.\n",
    "* Fill the missing values with 0 and train a model with r=0.001.\n",
    "* What's the RMSE on the test dataset?"
   ]
  },
  {
   "cell_type": "code",
   "execution_count": 19,
   "id": "cbfa8355-9a28-41fd-8c44-c4a6b1e2f3f7",
   "metadata": {},
   "outputs": [
    {
     "data": {
      "text/plain": [
       "(7764, 1940)"
      ]
     },
     "execution_count": 19,
     "metadata": {},
     "output_type": "execute_result"
    }
   ],
   "source": [
    "seed = 9\n",
    "idx = np.arange(n)\n",
    "np.random.seed(seed)\n",
    "np.random.shuffle(idx)\n",
    "\n",
    "df_train = df.iloc[idx[:n_train+n_val]]\n",
    "df_test = df.iloc[idx[n_train+n_val:]]\n",
    "len(df_train), len(df_test)"
   ]
  },
  {
   "cell_type": "code",
   "execution_count": 20,
   "id": "ddc7077d-446a-4d3d-b6d1-6f7528c9e494",
   "metadata": {},
   "outputs": [],
   "source": [
    "y_train = df_train.pop('fuel_efficiency_mpg')\n",
    "y_test = df_test.pop('fuel_efficiency_mpg')"
   ]
  },
  {
   "cell_type": "code",
   "execution_count": 21,
   "id": "3174534e-e9d3-43a2-b613-1ce634adc365",
   "metadata": {},
   "outputs": [],
   "source": [
    "r=0.001\n",
    "w0, w = train_linear_regression_regularized(df_train.fillna(0), y_train, r)"
   ]
  },
  {
   "cell_type": "code",
   "execution_count": 22,
   "id": "ecfbf4d2-9f25-4948-be21-15cd1030fac8",
   "metadata": {},
   "outputs": [
    {
     "data": {
      "text/plain": [
       "np.float64(0.5156)"
      ]
     },
     "execution_count": 22,
     "metadata": {},
     "output_type": "execute_result"
    }
   ],
   "source": [
    "y_pred = predict(df_test.fillna(0), w0, w)\n",
    "rmse(y_test, y_pred).round(4)"
   ]
  },
  {
   "cell_type": "markdown",
   "id": "31b4144d-adca-4fc6-b2fa-081fd5972298",
   "metadata": {},
   "source": [
    "Ans: RMSE on the test dataset is 0.515"
   ]
  },
  {
   "cell_type": "code",
   "execution_count": null,
   "id": "d969dbe4-2a42-4248-a5d1-0fb22fdbc561",
   "metadata": {},
   "outputs": [],
   "source": []
  }
 ],
 "metadata": {
  "kernelspec": {
   "display_name": "Python 3 (ipykernel)",
   "language": "python",
   "name": "python3"
  },
  "language_info": {
   "codemirror_mode": {
    "name": "ipython",
    "version": 3
   },
   "file_extension": ".py",
   "mimetype": "text/x-python",
   "name": "python",
   "nbconvert_exporter": "python",
   "pygments_lexer": "ipython3",
   "version": "3.11.13"
  }
 },
 "nbformat": 4,
 "nbformat_minor": 5
}
