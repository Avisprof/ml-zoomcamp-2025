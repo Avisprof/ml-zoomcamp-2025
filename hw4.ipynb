{
 "cells": [
  {
   "cell_type": "markdown",
   "id": "a0eee02c-7212-4d33-a414-adf6400676c2",
   "metadata": {},
   "source": [
    "https://github.com/DataTalksClub/machine-learning-zoomcamp/blob/master/cohorts/2025/04-evaluation/homework.md"
   ]
  },
  {
   "cell_type": "code",
   "execution_count": 1,
   "id": "2f18431a-76dc-4169-b72b-6d4a47d6b07d",
   "metadata": {},
   "outputs": [],
   "source": [
    "import numpy as np\n",
    "import pandas as pd\n",
    "import matplotlib.pyplot as plt"
   ]
  },
  {
   "cell_type": "code",
   "execution_count": 2,
   "id": "74fa01de-4872-4c48-9292-a168dfe1e117",
   "metadata": {},
   "outputs": [],
   "source": [
    "from sklearn.model_selection import train_test_split, KFold\n",
    "from sklearn.feature_extraction import DictVectorizer\n",
    "from sklearn.preprocessing import StandardScaler\n",
    "from sklearn.linear_model import LogisticRegression\n",
    "from sklearn.metrics import roc_auc_score"
   ]
  },
  {
   "cell_type": "code",
   "execution_count": 3,
   "id": "4480e22d-452d-4a84-9502-b443acfa5280",
   "metadata": {},
   "outputs": [
    {
     "name": "stdout",
     "output_type": "stream",
     "text": [
      "(1462, 9)\n"
     ]
    },
    {
     "data": {
      "text/html": [
       "<div>\n",
       "<style scoped>\n",
       "    .dataframe tbody tr th:only-of-type {\n",
       "        vertical-align: middle;\n",
       "    }\n",
       "\n",
       "    .dataframe tbody tr th {\n",
       "        vertical-align: top;\n",
       "    }\n",
       "\n",
       "    .dataframe thead th {\n",
       "        text-align: right;\n",
       "    }\n",
       "</style>\n",
       "<table border=\"1\" class=\"dataframe\">\n",
       "  <thead>\n",
       "    <tr style=\"text-align: right;\">\n",
       "      <th></th>\n",
       "      <th>lead_source</th>\n",
       "      <th>industry</th>\n",
       "      <th>number_of_courses_viewed</th>\n",
       "      <th>annual_income</th>\n",
       "      <th>employment_status</th>\n",
       "      <th>location</th>\n",
       "      <th>interaction_count</th>\n",
       "      <th>lead_score</th>\n",
       "      <th>converted</th>\n",
       "    </tr>\n",
       "  </thead>\n",
       "  <tbody>\n",
       "    <tr>\n",
       "      <th>0</th>\n",
       "      <td>paid_ads</td>\n",
       "      <td>NaN</td>\n",
       "      <td>1</td>\n",
       "      <td>79450.0</td>\n",
       "      <td>unemployed</td>\n",
       "      <td>south_america</td>\n",
       "      <td>4</td>\n",
       "      <td>0.94</td>\n",
       "      <td>1</td>\n",
       "    </tr>\n",
       "    <tr>\n",
       "      <th>1</th>\n",
       "      <td>social_media</td>\n",
       "      <td>retail</td>\n",
       "      <td>1</td>\n",
       "      <td>46992.0</td>\n",
       "      <td>employed</td>\n",
       "      <td>south_america</td>\n",
       "      <td>1</td>\n",
       "      <td>0.80</td>\n",
       "      <td>0</td>\n",
       "    </tr>\n",
       "    <tr>\n",
       "      <th>2</th>\n",
       "      <td>events</td>\n",
       "      <td>healthcare</td>\n",
       "      <td>5</td>\n",
       "      <td>78796.0</td>\n",
       "      <td>unemployed</td>\n",
       "      <td>australia</td>\n",
       "      <td>3</td>\n",
       "      <td>0.69</td>\n",
       "      <td>1</td>\n",
       "    </tr>\n",
       "    <tr>\n",
       "      <th>3</th>\n",
       "      <td>paid_ads</td>\n",
       "      <td>retail</td>\n",
       "      <td>2</td>\n",
       "      <td>83843.0</td>\n",
       "      <td>NaN</td>\n",
       "      <td>australia</td>\n",
       "      <td>1</td>\n",
       "      <td>0.87</td>\n",
       "      <td>0</td>\n",
       "    </tr>\n",
       "    <tr>\n",
       "      <th>4</th>\n",
       "      <td>referral</td>\n",
       "      <td>education</td>\n",
       "      <td>3</td>\n",
       "      <td>85012.0</td>\n",
       "      <td>self_employed</td>\n",
       "      <td>europe</td>\n",
       "      <td>3</td>\n",
       "      <td>0.62</td>\n",
       "      <td>1</td>\n",
       "    </tr>\n",
       "  </tbody>\n",
       "</table>\n",
       "</div>"
      ],
      "text/plain": [
       "    lead_source    industry  number_of_courses_viewed  annual_income  \\\n",
       "0      paid_ads         NaN                         1        79450.0   \n",
       "1  social_media      retail                         1        46992.0   \n",
       "2        events  healthcare                         5        78796.0   \n",
       "3      paid_ads      retail                         2        83843.0   \n",
       "4      referral   education                         3        85012.0   \n",
       "\n",
       "  employment_status       location  interaction_count  lead_score  converted  \n",
       "0        unemployed  south_america                  4        0.94          1  \n",
       "1          employed  south_america                  1        0.80          0  \n",
       "2        unemployed      australia                  3        0.69          1  \n",
       "3               NaN      australia                  1        0.87          0  \n",
       "4     self_employed         europe                  3        0.62          1  "
      ]
     },
     "execution_count": 3,
     "metadata": {},
     "output_type": "execute_result"
    }
   ],
   "source": [
    "df = pd.read_csv('https://raw.githubusercontent.com/alexeygrigorev/datasets/master/course_lead_scoring.csv')\n",
    "print(df.shape)\n",
    "df.head()"
   ]
  },
  {
   "cell_type": "markdown",
   "id": "78ac1afb-d65e-4e66-ae98-794526d9045b",
   "metadata": {},
   "source": [
    "### Data preparation"
   ]
  },
  {
   "cell_type": "markdown",
   "id": "74fa3437-246e-4478-8546-63aef27fc457",
   "metadata": {},
   "source": [
    "* Check if the missing values are presented in the features.\n",
    "* If there are missing values:\n",
    "    * For caterogiral features, replace them with 'NA'\n",
    "    * For numerical features, replace with with 0.0"
   ]
  },
  {
   "cell_type": "code",
   "execution_count": 4,
   "id": "3b92aaad-79f4-43b5-a26b-11e830453ddd",
   "metadata": {},
   "outputs": [
    {
     "data": {
      "text/plain": [
       "['lead_source', 'industry', 'employment_status', 'location']"
      ]
     },
     "execution_count": 4,
     "metadata": {},
     "output_type": "execute_result"
    }
   ],
   "source": [
    "cat_columns = df.select_dtypes('object').columns.to_list()\n",
    "cat_columns"
   ]
  },
  {
   "cell_type": "code",
   "execution_count": 5,
   "id": "60849a5b-a034-463b-a8b5-b0bfe1eb99b4",
   "metadata": {},
   "outputs": [
    {
     "data": {
      "text/plain": [
       "lead_source          128\n",
       "industry             134\n",
       "employment_status    100\n",
       "location              63\n",
       "dtype: int64"
      ]
     },
     "execution_count": 5,
     "metadata": {},
     "output_type": "execute_result"
    }
   ],
   "source": [
    "df[cat_columns].isna().sum()"
   ]
  },
  {
   "cell_type": "code",
   "execution_count": 6,
   "id": "e9fe53c8-39fe-479b-9773-ea9172c4ee6d",
   "metadata": {},
   "outputs": [],
   "source": [
    "df[cat_columns] = df[cat_columns].fillna('NA')"
   ]
  },
  {
   "cell_type": "code",
   "execution_count": 7,
   "id": "5851cafc-e3e5-4a8a-91c3-b9860abccb90",
   "metadata": {},
   "outputs": [
    {
     "data": {
      "text/plain": [
       "['number_of_courses_viewed',\n",
       " 'annual_income',\n",
       " 'interaction_count',\n",
       " 'lead_score']"
      ]
     },
     "execution_count": 7,
     "metadata": {},
     "output_type": "execute_result"
    }
   ],
   "source": [
    "num_columns = df.select_dtypes('number').columns.to_list()[:-1]\n",
    "num_columns"
   ]
  },
  {
   "cell_type": "code",
   "execution_count": 8,
   "id": "eb6f6308-4426-41b1-b991-cf9d08a9f441",
   "metadata": {},
   "outputs": [
    {
     "data": {
      "text/plain": [
       "number_of_courses_viewed      0\n",
       "annual_income               181\n",
       "interaction_count             0\n",
       "lead_score                    0\n",
       "dtype: int64"
      ]
     },
     "execution_count": 8,
     "metadata": {},
     "output_type": "execute_result"
    }
   ],
   "source": [
    "df[num_columns].isna().sum()"
   ]
  },
  {
   "cell_type": "code",
   "execution_count": 9,
   "id": "82f573cb-a3f4-4666-a71a-43c79f71bbe9",
   "metadata": {},
   "outputs": [],
   "source": [
    "df[num_columns] = df[num_columns].fillna(0)"
   ]
  },
  {
   "cell_type": "code",
   "execution_count": 10,
   "id": "2a74542f-d32a-454a-9494-00b9267354eb",
   "metadata": {},
   "outputs": [],
   "source": [
    "target = 'converted'"
   ]
  },
  {
   "cell_type": "markdown",
   "id": "000153aa-909e-4bf1-a4d4-7e425223a000",
   "metadata": {},
   "source": [
    "### Split the data"
   ]
  },
  {
   "cell_type": "code",
   "execution_count": 11,
   "id": "67cd3e70-cd5d-4b02-a800-c21550836fa6",
   "metadata": {},
   "outputs": [
    {
     "data": {
      "text/plain": [
       "((876, 9), (293, 9), (293, 9))"
      ]
     },
     "execution_count": 11,
     "metadata": {},
     "output_type": "execute_result"
    }
   ],
   "source": [
    "df_train_full, df_test = train_test_split(df, test_size=0.2, random_state=1)\n",
    "df_train, df_val = train_test_split(df_train_full, test_size=0.25, random_state=1)\n",
    "df_train.shape, df_val.shape, df_test.shape"
   ]
  },
  {
   "cell_type": "code",
   "execution_count": 12,
   "id": "96dbeddf-237d-4bf4-9b52-f83f66e40005",
   "metadata": {},
   "outputs": [],
   "source": [
    "y_train = df_train.pop(target).values\n",
    "y_val = df_val.pop(target).values\n",
    "y_test = df_test.pop(target).values"
   ]
  },
  {
   "cell_type": "markdown",
   "id": "4e24cbf1-f0bb-49ae-8d6a-01d47c5ed7a2",
   "metadata": {},
   "source": [
    "### Question 1: ROC AUC feature importance"
   ]
  },
  {
   "cell_type": "markdown",
   "id": "a4827f16-f0e0-4064-a497-37ceaf9517df",
   "metadata": {},
   "source": [
    "ROC AUC could also be used to evaluate feature importance of numerical variables.\n",
    "\n",
    "Let's do that:\n",
    "* For each numerical variable, use it as score (aka prediction) and compute the AUC with the y variable as ground truth.\n",
    "* Use the training dataset for that"
   ]
  },
  {
   "cell_type": "code",
   "execution_count": 13,
   "id": "fe916029-64d8-46a3-9fcc-35ae79897891",
   "metadata": {},
   "outputs": [
    {
     "data": {
      "text/html": [
       "<div>\n",
       "<style scoped>\n",
       "    .dataframe tbody tr th:only-of-type {\n",
       "        vertical-align: middle;\n",
       "    }\n",
       "\n",
       "    .dataframe tbody tr th {\n",
       "        vertical-align: top;\n",
       "    }\n",
       "\n",
       "    .dataframe thead th {\n",
       "        text-align: right;\n",
       "    }\n",
       "</style>\n",
       "<table border=\"1\" class=\"dataframe\">\n",
       "  <thead>\n",
       "    <tr style=\"text-align: right;\">\n",
       "      <th></th>\n",
       "      <th>column</th>\n",
       "      <th>roc_auc_score</th>\n",
       "    </tr>\n",
       "  </thead>\n",
       "  <tbody>\n",
       "    <tr>\n",
       "      <th>0</th>\n",
       "      <td>number_of_courses_viewed</td>\n",
       "      <td>0.763568</td>\n",
       "    </tr>\n",
       "    <tr>\n",
       "      <th>2</th>\n",
       "      <td>interaction_count</td>\n",
       "      <td>0.738270</td>\n",
       "    </tr>\n",
       "    <tr>\n",
       "      <th>3</th>\n",
       "      <td>lead_score</td>\n",
       "      <td>0.614499</td>\n",
       "    </tr>\n",
       "    <tr>\n",
       "      <th>1</th>\n",
       "      <td>annual_income</td>\n",
       "      <td>0.551958</td>\n",
       "    </tr>\n",
       "  </tbody>\n",
       "</table>\n",
       "</div>"
      ],
      "text/plain": [
       "                     column  roc_auc_score\n",
       "0  number_of_courses_viewed       0.763568\n",
       "2         interaction_count       0.738270\n",
       "3                lead_score       0.614499\n",
       "1             annual_income       0.551958"
      ]
     },
     "execution_count": 13,
     "metadata": {},
     "output_type": "execute_result"
    }
   ],
   "source": [
    "scores = []\n",
    "for col in num_columns:\n",
    "    score = roc_auc_score(y_train, df_train[col].values)\n",
    "    if score < 0.5:\n",
    "        score = 1 - score\n",
    "    scores.append([col, score])\n",
    "df_scores = pd.DataFrame(scores, columns=['column', 'roc_auc_score'])\n",
    "df_scores.sort_values('roc_auc_score', ascending=False, inplace=True)\n",
    "df_scores"
   ]
  },
  {
   "cell_type": "markdown",
   "id": "e82b090d-c8d6-44aa-94e9-328c87734f1a",
   "metadata": {},
   "source": [
    "Which numerical variable (among the following 4) has the highest AUC?"
   ]
  },
  {
   "cell_type": "markdown",
   "id": "a945b41c-bbb7-4aec-a93b-cef5c9f2ecf4",
   "metadata": {},
   "source": [
    "Ans: `number_of_courses_viewed`"
   ]
  },
  {
   "cell_type": "markdown",
   "id": "36926021-b753-4cb1-9a3e-78050345c65d",
   "metadata": {},
   "source": [
    "### Question 2: Training the model"
   ]
  },
  {
   "cell_type": "markdown",
   "id": "48bc0754-28c9-4f8b-9c64-33d6f87cab3b",
   "metadata": {},
   "source": [
    "Apply one-hot-encoding using DictVectorizer and train the logistic regression with these parameters:\n",
    "`LogisticRegression(solver='liblinear', C=1.0, max_iter=1000)`"
   ]
  },
  {
   "cell_type": "code",
   "execution_count": 14,
   "id": "034fb118-e9fa-4005-81c4-9aaa24c97a43",
   "metadata": {},
   "outputs": [],
   "source": [
    "def train_model(df, y, C=1):\n",
    "    dv = DictVectorizer(sparse=False)\n",
    "    train_dicts = df.to_dict(orient='records')\n",
    "    X = dv.fit_transform(train_dicts)\n",
    "\n",
    "    model = LogisticRegression(solver='liblinear', C=C, max_iter=1000)\n",
    "    model.fit(X, y)\n",
    "\n",
    "    return dv, model"
   ]
  },
  {
   "cell_type": "code",
   "execution_count": 15,
   "id": "5c8c39a1-1d9b-4cd4-9339-8e68606cf27a",
   "metadata": {},
   "outputs": [],
   "source": [
    "def evaluate_model(dv, model, df_pred, y_true):\n",
    "    eval_dicts = df_pred.to_dict(orient='records')\n",
    "    X_val = dv.transform(eval_dicts)\n",
    "\n",
    "    y_pred_proba = model.predict_proba(X_val)[:,1]\n",
    "    socre = roc_auc_score(y_true, y_pred_proba)\n",
    "    return score, y_pred_proba"
   ]
  },
  {
   "cell_type": "code",
   "execution_count": 16,
   "id": "2e9c99ac-7ed3-478e-ba8d-47d581d80061",
   "metadata": {},
   "outputs": [
    {
     "data": {
      "text/plain": [
       "0.614"
      ]
     },
     "execution_count": 16,
     "metadata": {},
     "output_type": "execute_result"
    }
   ],
   "source": [
    "dv, model = train_model(df_train, y_train)\n",
    "score, y_pred_proba = evaluate_model(dv, model, df_val, y_val)\n",
    "round(score,3)"
   ]
  },
  {
   "cell_type": "markdown",
   "id": "d3c22edd-27ac-4fad-9b5d-e5ff2bdf068d",
   "metadata": {},
   "source": [
    "Ans: 0.52 (the closest one)"
   ]
  },
  {
   "cell_type": "markdown",
   "id": "87d7e76c-9d49-407f-8b15-a96f47966e6c",
   "metadata": {},
   "source": [
    "### Question 3: Precision and Recall"
   ]
  },
  {
   "cell_type": "markdown",
   "id": "282d7bf0-9820-4502-b404-5ca8463980f6",
   "metadata": {},
   "source": [
    "Now let's compute precision and recall for our model.\n",
    "* Evaluate the model on all thresholds from 0.0 to 1.0 with step 0.01\n",
    "* For each threshold, compute precision and recall\n",
    "* Plot them"
   ]
  },
  {
   "cell_type": "code",
   "execution_count": 17,
   "id": "fbfbadf3-0912-4450-bbb1-68c1dc2f1b48",
   "metadata": {},
   "outputs": [
    {
     "data": {
      "text/plain": [
       "array([0.  , 0.01, 0.02, 0.03, 0.04, 0.05, 0.06, 0.07, 0.08, 0.09, 0.1 ,\n",
       "       0.11, 0.12, 0.13, 0.14, 0.15, 0.16, 0.17, 0.18, 0.19, 0.2 , 0.21,\n",
       "       0.22, 0.23, 0.24, 0.25, 0.26, 0.27, 0.28, 0.29, 0.3 , 0.31, 0.32,\n",
       "       0.33, 0.34, 0.35, 0.36, 0.37, 0.38, 0.39, 0.4 , 0.41, 0.42, 0.43,\n",
       "       0.44, 0.45, 0.46, 0.47, 0.48, 0.49, 0.5 , 0.51, 0.52, 0.53, 0.54,\n",
       "       0.55, 0.56, 0.57, 0.58, 0.59, 0.6 , 0.61, 0.62, 0.63, 0.64, 0.65,\n",
       "       0.66, 0.67, 0.68, 0.69, 0.7 , 0.71, 0.72, 0.73, 0.74, 0.75, 0.76,\n",
       "       0.77, 0.78, 0.79, 0.8 , 0.81, 0.82, 0.83, 0.84, 0.85, 0.86, 0.87,\n",
       "       0.88, 0.89, 0.9 , 0.91, 0.92, 0.93, 0.94, 0.95, 0.96, 0.97, 0.98,\n",
       "       0.99, 1.  ])"
      ]
     },
     "execution_count": 17,
     "metadata": {},
     "output_type": "execute_result"
    }
   ],
   "source": [
    "thresholds = np.linspace(0, 1, num=101)\n",
    "thresholds"
   ]
  },
  {
   "cell_type": "code",
   "execution_count": 18,
   "id": "9fcee227-cd71-47d8-b9a1-3291f770850f",
   "metadata": {},
   "outputs": [],
   "source": [
    "def precission_recall(y_true, y_pred_proba, threshold):\n",
    "    \n",
    "    y_pred = (y_pred_proba >= threshold).astype(int)\n",
    "    \n",
    "    tp = ((y_true == 1) & (y_pred == 1)).astype(int).sum()\n",
    "    tn = ((y_true == 0) & (y_pred == 0)).astype(int).sum()\n",
    "    fp = ((y_true == 0) & (y_pred == 1)).astype(int).sum()\n",
    "    fn = ((y_true == 1) & (y_pred == 0)).astype(int).sum()\n",
    "\n",
    "    precission = tp / (tp + fp)\n",
    "    recall = tp / (tp + fn)\n",
    "    \n",
    "    return precission, recall"
   ]
  },
  {
   "cell_type": "code",
   "execution_count": 19,
   "id": "770d9338-1ffd-48b4-b145-cfca727284c1",
   "metadata": {},
   "outputs": [
    {
     "name": "stderr",
     "output_type": "stream",
     "text": [
      "/tmp/ipykernel_3828/3111122160.py:10: RuntimeWarning: invalid value encountered in scalar divide\n",
      "  precission = tp / (tp + fp)\n"
     ]
    },
    {
     "data": {
      "text/html": [
       "<div>\n",
       "<style scoped>\n",
       "    .dataframe tbody tr th:only-of-type {\n",
       "        vertical-align: middle;\n",
       "    }\n",
       "\n",
       "    .dataframe tbody tr th {\n",
       "        vertical-align: top;\n",
       "    }\n",
       "\n",
       "    .dataframe thead th {\n",
       "        text-align: right;\n",
       "    }\n",
       "</style>\n",
       "<table border=\"1\" class=\"dataframe\">\n",
       "  <thead>\n",
       "    <tr style=\"text-align: right;\">\n",
       "      <th></th>\n",
       "      <th>threshold</th>\n",
       "      <th>precission</th>\n",
       "      <th>recall</th>\n",
       "      <th>diff</th>\n",
       "    </tr>\n",
       "  </thead>\n",
       "  <tbody>\n",
       "    <tr>\n",
       "      <th>0</th>\n",
       "      <td>0.0</td>\n",
       "      <td>0.583618</td>\n",
       "      <td>1.000000</td>\n",
       "      <td>0.416382</td>\n",
       "    </tr>\n",
       "    <tr>\n",
       "      <th>10</th>\n",
       "      <td>0.1</td>\n",
       "      <td>0.583618</td>\n",
       "      <td>1.000000</td>\n",
       "      <td>0.416382</td>\n",
       "    </tr>\n",
       "    <tr>\n",
       "      <th>20</th>\n",
       "      <td>0.2</td>\n",
       "      <td>0.583618</td>\n",
       "      <td>1.000000</td>\n",
       "      <td>0.416382</td>\n",
       "    </tr>\n",
       "    <tr>\n",
       "      <th>30</th>\n",
       "      <td>0.3</td>\n",
       "      <td>0.589655</td>\n",
       "      <td>1.000000</td>\n",
       "      <td>0.410345</td>\n",
       "    </tr>\n",
       "    <tr>\n",
       "      <th>40</th>\n",
       "      <td>0.4</td>\n",
       "      <td>0.619565</td>\n",
       "      <td>1.000000</td>\n",
       "      <td>0.380435</td>\n",
       "    </tr>\n",
       "    <tr>\n",
       "      <th>50</th>\n",
       "      <td>0.5</td>\n",
       "      <td>0.669388</td>\n",
       "      <td>0.959064</td>\n",
       "      <td>0.289677</td>\n",
       "    </tr>\n",
       "    <tr>\n",
       "      <th>60</th>\n",
       "      <td>0.6</td>\n",
       "      <td>0.738916</td>\n",
       "      <td>0.877193</td>\n",
       "      <td>0.138277</td>\n",
       "    </tr>\n",
       "    <tr>\n",
       "      <th>70</th>\n",
       "      <td>0.7</td>\n",
       "      <td>0.809160</td>\n",
       "      <td>0.619883</td>\n",
       "      <td>0.189277</td>\n",
       "    </tr>\n",
       "    <tr>\n",
       "      <th>80</th>\n",
       "      <td>0.8</td>\n",
       "      <td>0.914286</td>\n",
       "      <td>0.374269</td>\n",
       "      <td>0.540017</td>\n",
       "    </tr>\n",
       "    <tr>\n",
       "      <th>90</th>\n",
       "      <td>0.9</td>\n",
       "      <td>0.960000</td>\n",
       "      <td>0.140351</td>\n",
       "      <td>0.819649</td>\n",
       "    </tr>\n",
       "    <tr>\n",
       "      <th>100</th>\n",
       "      <td>1.0</td>\n",
       "      <td>NaN</td>\n",
       "      <td>0.000000</td>\n",
       "      <td>NaN</td>\n",
       "    </tr>\n",
       "  </tbody>\n",
       "</table>\n",
       "</div>"
      ],
      "text/plain": [
       "     threshold  precission    recall      diff\n",
       "0          0.0    0.583618  1.000000  0.416382\n",
       "10         0.1    0.583618  1.000000  0.416382\n",
       "20         0.2    0.583618  1.000000  0.416382\n",
       "30         0.3    0.589655  1.000000  0.410345\n",
       "40         0.4    0.619565  1.000000  0.380435\n",
       "50         0.5    0.669388  0.959064  0.289677\n",
       "60         0.6    0.738916  0.877193  0.138277\n",
       "70         0.7    0.809160  0.619883  0.189277\n",
       "80         0.8    0.914286  0.374269  0.540017\n",
       "90         0.9    0.960000  0.140351  0.819649\n",
       "100        1.0         NaN  0.000000       NaN"
      ]
     },
     "execution_count": 19,
     "metadata": {},
     "output_type": "execute_result"
    }
   ],
   "source": [
    "scores = []\n",
    "for t in thresholds:\n",
    "    p, r = precission_recall(y_val, y_pred_proba, t)\n",
    "    scores.append([t, p, r])\n",
    "df_scores = pd.DataFrame(scores, columns=['threshold','precission','recall'])\n",
    "df_scores['diff'] = abs(df_scores['precission'] - df_scores['recall'])\n",
    "df_scores[::10]"
   ]
  },
  {
   "cell_type": "code",
   "execution_count": 20,
   "id": "48a2414f-e6ed-4986-af9a-5295b31caf8f",
   "metadata": {},
   "outputs": [
    {
     "data": {
      "image/png": "[encoded data removed]",
      "text/plain": [
       "<Figure size 640x480 with 1 Axes>"
      ]
     },
     "metadata": {},
     "output_type": "display_data"
    }
   ],
   "source": [
    "plt.plot(thresholds, df_scores['precission'], label='precission')\n",
    "plt.plot(thresholds, df_scores['recall'], label='recall')\n",
    "plt.xlabel('threshold')\n",
    "plt.grid()\n",
    "plt.legend();"
   ]
  },
  {
   "cell_type": "code",
   "execution_count": 21,
   "id": "545be733-77a0-4cfd-b314-c690df982588",
   "metadata": {},
   "outputs": [
    {
     "data": {
      "text/html": [
       "<div>\n",
       "<style scoped>\n",
       "    .dataframe tbody tr th:only-of-type {\n",
       "        vertical-align: middle;\n",
       "    }\n",
       "\n",
       "    .dataframe tbody tr th {\n",
       "        vertical-align: top;\n",
       "    }\n",
       "\n",
       "    .dataframe thead th {\n",
       "        text-align: right;\n",
       "    }\n",
       "</style>\n",
       "<table border=\"1\" class=\"dataframe\">\n",
       "  <thead>\n",
       "    <tr style=\"text-align: right;\">\n",
       "      <th></th>\n",
       "      <th>threshold</th>\n",
       "      <th>precission</th>\n",
       "      <th>recall</th>\n",
       "      <th>diff</th>\n",
       "    </tr>\n",
       "  </thead>\n",
       "  <tbody>\n",
       "    <tr>\n",
       "      <th>64</th>\n",
       "      <td>0.64</td>\n",
       "      <td>0.77907</td>\n",
       "      <td>0.783626</td>\n",
       "      <td>0.004556</td>\n",
       "    </tr>\n",
       "  </tbody>\n",
       "</table>\n",
       "</div>"
      ],
      "text/plain": [
       "    threshold  precission    recall      diff\n",
       "64       0.64     0.77907  0.783626  0.004556"
      ]
     },
     "execution_count": 21,
     "metadata": {},
     "output_type": "execute_result"
    }
   ],
   "source": [
    "df_scores.sort_values('diff', ascending=True).head(1)"
   ]
  },
  {
   "cell_type": "markdown",
   "id": "0139b5e7-01ca-4c99-9395-959af974ae4e",
   "metadata": {},
   "source": [
    "At which threshold precision and recall curves intersect?"
   ]
  },
  {
   "cell_type": "markdown",
   "id": "ddad2ac7-4f7e-4439-bbb1-2a9a00ec367f",
   "metadata": {},
   "source": [
    "Ans: 0.545"
   ]
  },
  {
   "cell_type": "markdown",
   "id": "42bc4c66-af6f-4ac1-a163-32d0ee3aee8b",
   "metadata": {},
   "source": [
    "### Question 4: F1 score"
   ]
  },
  {
   "cell_type": "markdown",
   "id": "9a576a4e-b03e-4e02-b429-a332c05e1bec",
   "metadata": {},
   "source": [
    "Precision and recall are conflicting - when one grows, the other goes down. That's why they are often combined into the F1 score - a metrics that takes into account both"
   ]
  },
  {
   "cell_type": "code",
   "execution_count": 22,
   "id": "42a8f04e-c66b-457f-8ade-fde2483ae743",
   "metadata": {},
   "outputs": [
    {
     "data": {
      "text/html": [
       "<div>\n",
       "<style scoped>\n",
       "    .dataframe tbody tr th:only-of-type {\n",
       "        vertical-align: middle;\n",
       "    }\n",
       "\n",
       "    .dataframe tbody tr th {\n",
       "        vertical-align: top;\n",
       "    }\n",
       "\n",
       "    .dataframe thead th {\n",
       "        text-align: right;\n",
       "    }\n",
       "</style>\n",
       "<table border=\"1\" class=\"dataframe\">\n",
       "  <thead>\n",
       "    <tr style=\"text-align: right;\">\n",
       "      <th></th>\n",
       "      <th>threshold</th>\n",
       "      <th>precission</th>\n",
       "      <th>recall</th>\n",
       "      <th>diff</th>\n",
       "      <th>f1</th>\n",
       "    </tr>\n",
       "  </thead>\n",
       "  <tbody>\n",
       "    <tr>\n",
       "      <th>0</th>\n",
       "      <td>0.0</td>\n",
       "      <td>0.583618</td>\n",
       "      <td>1.000000</td>\n",
       "      <td>0.416382</td>\n",
       "      <td>0.737069</td>\n",
       "    </tr>\n",
       "    <tr>\n",
       "      <th>10</th>\n",
       "      <td>0.1</td>\n",
       "      <td>0.583618</td>\n",
       "      <td>1.000000</td>\n",
       "      <td>0.416382</td>\n",
       "      <td>0.737069</td>\n",
       "    </tr>\n",
       "    <tr>\n",
       "      <th>20</th>\n",
       "      <td>0.2</td>\n",
       "      <td>0.583618</td>\n",
       "      <td>1.000000</td>\n",
       "      <td>0.416382</td>\n",
       "      <td>0.737069</td>\n",
       "    </tr>\n",
       "    <tr>\n",
       "      <th>30</th>\n",
       "      <td>0.3</td>\n",
       "      <td>0.589655</td>\n",
       "      <td>1.000000</td>\n",
       "      <td>0.410345</td>\n",
       "      <td>0.741866</td>\n",
       "    </tr>\n",
       "    <tr>\n",
       "      <th>40</th>\n",
       "      <td>0.4</td>\n",
       "      <td>0.619565</td>\n",
       "      <td>1.000000</td>\n",
       "      <td>0.380435</td>\n",
       "      <td>0.765101</td>\n",
       "    </tr>\n",
       "    <tr>\n",
       "      <th>50</th>\n",
       "      <td>0.5</td>\n",
       "      <td>0.669388</td>\n",
       "      <td>0.959064</td>\n",
       "      <td>0.289677</td>\n",
       "      <td>0.788462</td>\n",
       "    </tr>\n",
       "    <tr>\n",
       "      <th>60</th>\n",
       "      <td>0.6</td>\n",
       "      <td>0.738916</td>\n",
       "      <td>0.877193</td>\n",
       "      <td>0.138277</td>\n",
       "      <td>0.802139</td>\n",
       "    </tr>\n",
       "    <tr>\n",
       "      <th>70</th>\n",
       "      <td>0.7</td>\n",
       "      <td>0.809160</td>\n",
       "      <td>0.619883</td>\n",
       "      <td>0.189277</td>\n",
       "      <td>0.701987</td>\n",
       "    </tr>\n",
       "    <tr>\n",
       "      <th>80</th>\n",
       "      <td>0.8</td>\n",
       "      <td>0.914286</td>\n",
       "      <td>0.374269</td>\n",
       "      <td>0.540017</td>\n",
       "      <td>0.531120</td>\n",
       "    </tr>\n",
       "    <tr>\n",
       "      <th>90</th>\n",
       "      <td>0.9</td>\n",
       "      <td>0.960000</td>\n",
       "      <td>0.140351</td>\n",
       "      <td>0.819649</td>\n",
       "      <td>0.244898</td>\n",
       "    </tr>\n",
       "    <tr>\n",
       "      <th>100</th>\n",
       "      <td>1.0</td>\n",
       "      <td>NaN</td>\n",
       "      <td>0.000000</td>\n",
       "      <td>NaN</td>\n",
       "      <td>NaN</td>\n",
       "    </tr>\n",
       "  </tbody>\n",
       "</table>\n",
       "</div>"
      ],
      "text/plain": [
       "     threshold  precission    recall      diff        f1\n",
       "0          0.0    0.583618  1.000000  0.416382  0.737069\n",
       "10         0.1    0.583618  1.000000  0.416382  0.737069\n",
       "20         0.2    0.583618  1.000000  0.416382  0.737069\n",
       "30         0.3    0.589655  1.000000  0.410345  0.741866\n",
       "40         0.4    0.619565  1.000000  0.380435  0.765101\n",
       "50         0.5    0.669388  0.959064  0.289677  0.788462\n",
       "60         0.6    0.738916  0.877193  0.138277  0.802139\n",
       "70         0.7    0.809160  0.619883  0.189277  0.701987\n",
       "80         0.8    0.914286  0.374269  0.540017  0.531120\n",
       "90         0.9    0.960000  0.140351  0.819649  0.244898\n",
       "100        1.0         NaN  0.000000       NaN       NaN"
      ]
     },
     "execution_count": 22,
     "metadata": {},
     "output_type": "execute_result"
    }
   ],
   "source": [
    "df_scores['f1'] = 2 * df_scores['precission'] * df_scores['recall'] / (df_scores['precission'] + df_scores['recall'])\n",
    "df_scores[::10]"
   ]
  },
  {
   "cell_type": "code",
   "execution_count": 23,
   "id": "436f78ad-3d7d-4b79-a6fc-ac17d44d66a0",
   "metadata": {},
   "outputs": [
    {
     "data": {
      "image/png": "[encoded data removed]",
      "text/plain": [
       "<Figure size 640x480 with 1 Axes>"
      ]
     },
     "metadata": {},
     "output_type": "display_data"
    }
   ],
   "source": [
    "plt.plot(thresholds, df_scores['f1'], label='f1-score')\n",
    "plt.xlabel(\"thresholds\")\n",
    "plt.ylabel('f1-score')\n",
    "plt.grid()\n",
    "plt.legend();"
   ]
  },
  {
   "cell_type": "code",
   "execution_count": 24,
   "id": "9a3773ef-8643-4bb3-9ecc-34048524d2a5",
   "metadata": {},
   "outputs": [
    {
     "data": {
      "text/html": [
       "<div>\n",
       "<style scoped>\n",
       "    .dataframe tbody tr th:only-of-type {\n",
       "        vertical-align: middle;\n",
       "    }\n",
       "\n",
       "    .dataframe tbody tr th {\n",
       "        vertical-align: top;\n",
       "    }\n",
       "\n",
       "    .dataframe thead th {\n",
       "        text-align: right;\n",
       "    }\n",
       "</style>\n",
       "<table border=\"1\" class=\"dataframe\">\n",
       "  <thead>\n",
       "    <tr style=\"text-align: right;\">\n",
       "      <th></th>\n",
       "      <th>threshold</th>\n",
       "      <th>precission</th>\n",
       "      <th>recall</th>\n",
       "      <th>diff</th>\n",
       "      <th>f1</th>\n",
       "    </tr>\n",
       "  </thead>\n",
       "  <tbody>\n",
       "    <tr>\n",
       "      <th>57</th>\n",
       "      <td>0.57</td>\n",
       "      <td>0.732394</td>\n",
       "      <td>0.912281</td>\n",
       "      <td>0.179886</td>\n",
       "      <td>0.812500</td>\n",
       "    </tr>\n",
       "    <tr>\n",
       "      <th>55</th>\n",
       "      <td>0.55</td>\n",
       "      <td>0.719457</td>\n",
       "      <td>0.929825</td>\n",
       "      <td>0.210368</td>\n",
       "      <td>0.811224</td>\n",
       "    </tr>\n",
       "    <tr>\n",
       "      <th>56</th>\n",
       "      <td>0.56</td>\n",
       "      <td>0.723502</td>\n",
       "      <td>0.918129</td>\n",
       "      <td>0.194626</td>\n",
       "      <td>0.809278</td>\n",
       "    </tr>\n",
       "    <tr>\n",
       "      <th>59</th>\n",
       "      <td>0.59</td>\n",
       "      <td>0.741463</td>\n",
       "      <td>0.888889</td>\n",
       "      <td>0.147425</td>\n",
       "      <td>0.808511</td>\n",
       "    </tr>\n",
       "    <tr>\n",
       "      <th>58</th>\n",
       "      <td>0.58</td>\n",
       "      <td>0.733333</td>\n",
       "      <td>0.900585</td>\n",
       "      <td>0.167251</td>\n",
       "      <td>0.808399</td>\n",
       "    </tr>\n",
       "  </tbody>\n",
       "</table>\n",
       "</div>"
      ],
      "text/plain": [
       "    threshold  precission    recall      diff        f1\n",
       "57       0.57    0.732394  0.912281  0.179886  0.812500\n",
       "55       0.55    0.719457  0.929825  0.210368  0.811224\n",
       "56       0.56    0.723502  0.918129  0.194626  0.809278\n",
       "59       0.59    0.741463  0.888889  0.147425  0.808511\n",
       "58       0.58    0.733333  0.900585  0.167251  0.808399"
      ]
     },
     "execution_count": 24,
     "metadata": {},
     "output_type": "execute_result"
    }
   ],
   "source": [
    "df_scores.sort_values('f1', ascending=False).head()"
   ]
  },
  {
   "cell_type": "markdown",
   "id": "56679212-d7c5-422f-bf81-984cc40299b3",
   "metadata": {},
   "source": [
    "At which threshold F1 is maximal?"
   ]
  },
  {
   "cell_type": "markdown",
   "id": "065ac5b3-d6fb-456b-b608-e10a1aa02350",
   "metadata": {},
   "source": [
    "Ans: 0.54 (the closest one)"
   ]
  },
  {
   "cell_type": "markdown",
   "id": "ecbd43b3-ea2a-4e43-89a3-b56a768ebac1",
   "metadata": {},
   "source": [
    "### Question 5: 5-Fold CV"
   ]
  },
  {
   "cell_type": "markdown",
   "id": "65084eb8-9b30-4a18-b7d7-7a94e8e5d6a2",
   "metadata": {},
   "source": [
    "Use the KFold class from Scikit-Learn to evaluate our model on 5 different folds: `KFold(n_splits=5, shuffle=True, random_state=1)`"
   ]
  },
  {
   "cell_type": "markdown",
   "id": "9b6f12fb-9b1c-4ef4-95e2-3f2f2e9977f5",
   "metadata": {},
   "source": [
    "* Iterate over different folds of `df_full_train`\n",
    "* Split the data into train and validation\n",
    "* Train the model on train with these parameters: `LogisticRegression(solver='liblinear', C=1.0, max_iter=1000)`\n",
    "* Use AUC to evaluate the model on validation"
   ]
  },
  {
   "cell_type": "code",
   "execution_count": 25,
   "id": "ef1a7d1e-c0e9-40f7-b6e5-516a9aa5395e",
   "metadata": {},
   "outputs": [],
   "source": [
    "def kfold_evaluation(C=1):\n",
    "    kfold = KFold(n_splits=5, shuffle=True, random_state=1)\n",
    "\n",
    "    scores = []\n",
    "    for train_idx, val_idx in kfold.split(df_train_full):\n",
    "        \n",
    "        df_train = df_train_full.iloc[train_idx].copy()\n",
    "        df_val = df_train_full.iloc[val_idx].copy()\n",
    "        \n",
    "        y_train = df_train.pop(target).values\n",
    "        y_val = df_val.pop(target).values\n",
    "        \n",
    "        dv, model = train_model(df_train, y_train, C)\n",
    "        score, y_pred_proba = evaluate_model(dv, model, df_val, y_val)\n",
    "    \n",
    "        scores.append(score)\n",
    "\n",
    "    print(f\"roc_auc_score: {np.mean(scores):.3f} +- {np.std(scores)} (for C = {C})\")\n",
    "    return scores"
   ]
  },
  {
   "cell_type": "code",
   "execution_count": 26,
   "id": "c4aad6fc-8ab6-4744-b506-50e5092c343a",
   "metadata": {},
   "outputs": [
    {
     "name": "stdout",
     "output_type": "stream",
     "text": [
      "roc_auc_score: 0.614 +- 0.0 (for C = 1)\n"
     ]
    }
   ],
   "source": [
    "scores = kfold_evaluation()"
   ]
  },
  {
   "cell_type": "markdown",
   "id": "29ba0ab3-2832-40f0-9325-44681755a147",
   "metadata": {},
   "source": [
    "Ans: 0.0001"
   ]
  },
  {
   "cell_type": "markdown",
   "id": "dcfb4468-f9b6-46c1-ae05-80e49c0dee30",
   "metadata": {},
   "source": [
    "### Question 6: Hyperparameter Tuning"
   ]
  },
  {
   "cell_type": "markdown",
   "id": "36cda264-2310-406e-9f66-8aae4ef3a657",
   "metadata": {},
   "source": [
    "Now let's use 5-Fold cross-validation to find the best parameter C\n",
    "* Iterate over the following C values: [0.000001, 0.001, 1]\n",
    "* Initialize KFold with the same parameters as previously\n",
    "* Use these parameters for the model: LogisticRegression(solver='liblinear', C=C, max_iter=1000)\n",
    "* Compute the mean score as well as the std (round the mean and std to 3 decimal digits)"
   ]
  },
  {
   "cell_type": "code",
   "execution_count": 27,
   "id": "f7690043-ded4-430e-a8b0-44247c50298d",
   "metadata": {},
   "outputs": [
    {
     "name": "stdout",
     "output_type": "stream",
     "text": [
      "roc_auc_score: 0.614 +- 0.0 (for C = 1e-06)\n",
      "roc_auc_score: 0.614 +- 0.0 (for C = 0.001)\n",
      "roc_auc_score: 0.614 +- 0.0 (for C = 1)\n"
     ]
    }
   ],
   "source": [
    "for C in [0.000001, 0.001, 1]:\n",
    "    scores = kfold_evaluation(C)"
   ]
  },
  {
   "cell_type": "markdown",
   "id": "aad29a51-1faf-4cc6-b41b-0f0452d4ce41",
   "metadata": {},
   "source": [
    "Ans: C = 0.000001"
   ]
  },
  {
   "cell_type": "code",
   "execution_count": null,
   "id": "968064b0-81fd-4ed7-8cfa-3b9d3d5aebdc",
   "metadata": {},
   "outputs": [],
   "source": []
  }
 ],
 "metadata": {
  "kernelspec": {
   "display_name": "Python 3 (ipykernel)",
   "language": "python",
   "name": "python3"
  },
  "language_info": {
   "codemirror_mode": {
    "name": "ipython",
    "version": 3
   },
   "file_extension": ".py",
   "mimetype": "text/x-python",
   "name": "python",
   "nbconvert_exporter": "python",
   "pygments_lexer": "ipython3",
   "version": "3.11.13"
  }
 },
 "nbformat": 4,
 "nbformat_minor": 5
}
